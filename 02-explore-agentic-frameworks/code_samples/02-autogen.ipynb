{
 "cells": [
  {
   "cell_type": "markdown",
   "metadata": {},
   "source": [
    "# Muestra básica de AutoGen\n",
    "\n",
    "En este ejemplo de código, utilizará el [AutoGen](https://aka.ms/ai-agents/autogen) Marco de IA para crear un agente básico.\n",
    "\n",
    "El objetivo de este ejemplo es mostrarle los pasos que usaremos más adelante en los ejemplos de código adicionales al implementar los diferentes patrones de agencia."
   ]
  },
  {
   "cell_type": "markdown",
   "metadata": {},
   "source": [
    "## Import the Needed Python Packages "
   ]
  },
  {
   "cell_type": "code",
   "execution_count": 5,
   "metadata": {},
   "outputs": [],
   "source": [
    "import os\n",
    "from dotenv import load_dotenv\n",
    "\n",
    "from autogen_agentchat.agents import AssistantAgent\n",
    "from autogen_core.models import UserMessage\n",
    "from autogen_ext.models.azure import AzureAIChatCompletionClient\n",
    "from azure.core.credentials import AzureKeyCredential\n",
    "from autogen_core import CancellationToken\n",
    "\n",
    "from autogen_agentchat.messages import TextMessage\n",
    "from autogen_agentchat.ui import Console\n"
   ]
  },
  {
   "cell_type": "markdown",
   "metadata": {},
   "source": [
    "## Create the Client \n",
    "\n",
    "En este ejemplo, utilizaremos[GitHub Models](https://aka.ms/ai-agents-beginners/github-models) para acceder al LLM. \n",
    "\n",
    "El `model` esta definidocomo  `gpt-4o-mini`. TPrueba a cambiarlo por otro disponible en la tienda de modelos de GitHub para ver los diferentes resultados.\n",
    "\n",
    "Como prueba rápida, simplemente ejecutaremos un mensaje simple. - `¿Cuál es la capital de Francia?`. "
   ]
  },
  {
   "cell_type": "code",
   "execution_count": 7,
   "metadata": {},
   "outputs": [
    {
     "ename": "ServiceRequestError",
     "evalue": "Cannot connect to host models.inference.ai.azure.com:443 ssl:default [getaddrinfo failed]",
     "output_type": "error",
     "traceback": [
      "\u001b[31m---------------------------------------------------------------------------\u001b[39m",
      "\u001b[31mgaierror\u001b[39m                                  Traceback (most recent call last)",
      "\u001b[36mFile \u001b[39m\u001b[32me:\\GIT\\ai-agents-for-beginners\\.venv\\Lib\\site-packages\\aiohttp\\connector.py:1351\u001b[39m, in \u001b[36mTCPConnector._create_direct_connection\u001b[39m\u001b[34m(self, req, traces, timeout, client_error)\u001b[39m\n\u001b[32m   1347\u001b[39m \u001b[38;5;28;01mtry\u001b[39;00m:\n\u001b[32m   1348\u001b[39m     \u001b[38;5;66;03m# Cancelling this lookup should not cancel the underlying lookup\u001b[39;00m\n\u001b[32m   1349\u001b[39m     \u001b[38;5;66;03m#  or else the cancel event will get broadcast to all the waiters\u001b[39;00m\n\u001b[32m   1350\u001b[39m     \u001b[38;5;66;03m#  across all connections.\u001b[39;00m\n\u001b[32m-> \u001b[39m\u001b[32m1351\u001b[39m     hosts = \u001b[38;5;28;01mawait\u001b[39;00m \u001b[38;5;28mself\u001b[39m._resolve_host(host, port, traces=traces)\n\u001b[32m   1352\u001b[39m \u001b[38;5;28;01mexcept\u001b[39;00m \u001b[38;5;167;01mOSError\u001b[39;00m \u001b[38;5;28;01mas\u001b[39;00m exc:\n",
      "\u001b[36mFile \u001b[39m\u001b[32me:\\GIT\\ai-agents-for-beginners\\.venv\\Lib\\site-packages\\aiohttp\\connector.py:995\u001b[39m, in \u001b[36mTCPConnector._resolve_host\u001b[39m\u001b[34m(self, host, port, traces)\u001b[39m\n\u001b[32m    994\u001b[39m \u001b[38;5;28;01mtry\u001b[39;00m:\n\u001b[32m--> \u001b[39m\u001b[32m995\u001b[39m     \u001b[38;5;28;01mreturn\u001b[39;00m \u001b[38;5;28;01mawait\u001b[39;00m asyncio.shield(resolved_host_task)\n\u001b[32m    996\u001b[39m \u001b[38;5;28;01mexcept\u001b[39;00m asyncio.CancelledError:\n",
      "\u001b[36mFile \u001b[39m\u001b[32me:\\GIT\\ai-agents-for-beginners\\.venv\\Lib\\site-packages\\aiohttp\\connector.py:1026\u001b[39m, in \u001b[36mTCPConnector._resolve_host_with_throttle\u001b[39m\u001b[34m(self, key, host, port, futures, traces)\u001b[39m\n\u001b[32m   1024\u001b[39m         \u001b[38;5;28;01mawait\u001b[39;00m trace.send_dns_resolvehost_start(host)\n\u001b[32m-> \u001b[39m\u001b[32m1026\u001b[39m addrs = \u001b[38;5;28;01mawait\u001b[39;00m \u001b[38;5;28mself\u001b[39m._resolver.resolve(host, port, family=\u001b[38;5;28mself\u001b[39m._family)\n\u001b[32m   1027\u001b[39m \u001b[38;5;28;01mif\u001b[39;00m traces:\n",
      "\u001b[36mFile \u001b[39m\u001b[32me:\\GIT\\ai-agents-for-beginners\\.venv\\Lib\\site-packages\\aiohttp\\resolver.py:39\u001b[39m, in \u001b[36mThreadedResolver.resolve\u001b[39m\u001b[34m(self, host, port, family)\u001b[39m\n\u001b[32m     36\u001b[39m \u001b[38;5;28;01masync\u001b[39;00m \u001b[38;5;28;01mdef\u001b[39;00m\u001b[38;5;250m \u001b[39m\u001b[34mresolve\u001b[39m(\n\u001b[32m     37\u001b[39m     \u001b[38;5;28mself\u001b[39m, host: \u001b[38;5;28mstr\u001b[39m, port: \u001b[38;5;28mint\u001b[39m = \u001b[32m0\u001b[39m, family: socket.AddressFamily = socket.AF_INET\n\u001b[32m     38\u001b[39m ) -> List[ResolveResult]:\n\u001b[32m---> \u001b[39m\u001b[32m39\u001b[39m     infos = \u001b[38;5;28;01mawait\u001b[39;00m \u001b[38;5;28mself\u001b[39m._loop.getaddrinfo(\n\u001b[32m     40\u001b[39m         host,\n\u001b[32m     41\u001b[39m         port,\n\u001b[32m     42\u001b[39m         \u001b[38;5;28mtype\u001b[39m=socket.SOCK_STREAM,\n\u001b[32m     43\u001b[39m         family=family,\n\u001b[32m     44\u001b[39m         flags=_AI_ADDRCONFIG,\n\u001b[32m     45\u001b[39m     )\n\u001b[32m     47\u001b[39m     hosts: List[ResolveResult] = []\n",
      "\u001b[36mFile \u001b[39m\u001b[32mC:\\Program Files\\Python312\\Lib\\asyncio\\base_events.py:905\u001b[39m, in \u001b[36mBaseEventLoop.getaddrinfo\u001b[39m\u001b[34m(self, host, port, family, type, proto, flags)\u001b[39m\n\u001b[32m    903\u001b[39m     getaddr_func = socket.getaddrinfo\n\u001b[32m--> \u001b[39m\u001b[32m905\u001b[39m \u001b[38;5;28;01mreturn\u001b[39;00m \u001b[38;5;28;01mawait\u001b[39;00m \u001b[38;5;28mself\u001b[39m.run_in_executor(\n\u001b[32m    906\u001b[39m     \u001b[38;5;28;01mNone\u001b[39;00m, getaddr_func, host, port, family, \u001b[38;5;28mtype\u001b[39m, proto, flags)\n",
      "\u001b[36mFile \u001b[39m\u001b[32mC:\\Program Files\\Python312\\Lib\\concurrent\\futures\\thread.py:59\u001b[39m, in \u001b[36m_WorkItem.run\u001b[39m\u001b[34m(self)\u001b[39m\n\u001b[32m     58\u001b[39m \u001b[38;5;28;01mtry\u001b[39;00m:\n\u001b[32m---> \u001b[39m\u001b[32m59\u001b[39m     result = \u001b[38;5;28;43mself\u001b[39;49m\u001b[43m.\u001b[49m\u001b[43mfn\u001b[49m\u001b[43m(\u001b[49m\u001b[43m*\u001b[49m\u001b[38;5;28;43mself\u001b[39;49m\u001b[43m.\u001b[49m\u001b[43margs\u001b[49m\u001b[43m,\u001b[49m\u001b[43m \u001b[49m\u001b[43m*\u001b[49m\u001b[43m*\u001b[49m\u001b[38;5;28;43mself\u001b[39;49m\u001b[43m.\u001b[49m\u001b[43mkwargs\u001b[49m\u001b[43m)\u001b[49m\n\u001b[32m     60\u001b[39m \u001b[38;5;28;01mexcept\u001b[39;00m \u001b[38;5;167;01mBaseException\u001b[39;00m \u001b[38;5;28;01mas\u001b[39;00m exc:\n",
      "\u001b[36mFile \u001b[39m\u001b[32mC:\\Program Files\\Python312\\Lib\\socket.py:978\u001b[39m, in \u001b[36mgetaddrinfo\u001b[39m\u001b[34m(host, port, family, type, proto, flags)\u001b[39m\n\u001b[32m    977\u001b[39m addrlist = []\n\u001b[32m--> \u001b[39m\u001b[32m978\u001b[39m \u001b[38;5;28;01mfor\u001b[39;00m res \u001b[38;5;129;01min\u001b[39;00m \u001b[43m_socket\u001b[49m\u001b[43m.\u001b[49m\u001b[43mgetaddrinfo\u001b[49m\u001b[43m(\u001b[49m\u001b[43mhost\u001b[49m\u001b[43m,\u001b[49m\u001b[43m \u001b[49m\u001b[43mport\u001b[49m\u001b[43m,\u001b[49m\u001b[43m \u001b[49m\u001b[43mfamily\u001b[49m\u001b[43m,\u001b[49m\u001b[43m \u001b[49m\u001b[38;5;28;43mtype\u001b[39;49m\u001b[43m,\u001b[49m\u001b[43m \u001b[49m\u001b[43mproto\u001b[49m\u001b[43m,\u001b[49m\u001b[43m \u001b[49m\u001b[43mflags\u001b[49m\u001b[43m)\u001b[49m:\n\u001b[32m    979\u001b[39m     af, socktype, proto, canonname, sa = res\n",
      "\u001b[31mgaierror\u001b[39m: [Errno 11001] getaddrinfo failed",
      "\nThe above exception was the direct cause of the following exception:\n",
      "\u001b[31mClientConnectorDNSError\u001b[39m                   Traceback (most recent call last)",
      "\u001b[36mFile \u001b[39m\u001b[32me:\\GIT\\ai-agents-for-beginners\\.venv\\Lib\\site-packages\\azure\\core\\pipeline\\transport\\_aiohttp.py:305\u001b[39m, in \u001b[36mAioHttpTransport.send\u001b[39m\u001b[34m(self, request, stream, proxies, **config)\u001b[39m\n\u001b[32m    304\u001b[39m socket_timeout = aiohttp.ClientTimeout(sock_connect=timeout, sock_read=read_timeout)\n\u001b[32m--> \u001b[39m\u001b[32m305\u001b[39m result = \u001b[38;5;28;01mawait\u001b[39;00m \u001b[38;5;28mself\u001b[39m.session.request(  \u001b[38;5;66;03m# type: ignore\u001b[39;00m\n\u001b[32m    306\u001b[39m     request.method,\n\u001b[32m    307\u001b[39m     request.url,\n\u001b[32m    308\u001b[39m     headers=request.headers,\n\u001b[32m    309\u001b[39m     data=\u001b[38;5;28mself\u001b[39m._get_request_data(request),\n\u001b[32m    310\u001b[39m     timeout=socket_timeout,\n\u001b[32m    311\u001b[39m     allow_redirects=\u001b[38;5;28;01mFalse\u001b[39;00m,\n\u001b[32m    312\u001b[39m     proxy=proxy,\n\u001b[32m    313\u001b[39m     **config,\n\u001b[32m    314\u001b[39m )\n\u001b[32m    315\u001b[39m \u001b[38;5;28;01mif\u001b[39;00m _is_rest(request):\n",
      "\u001b[36mFile \u001b[39m\u001b[32me:\\GIT\\ai-agents-for-beginners\\.venv\\Lib\\site-packages\\aiohttp\\client.py:703\u001b[39m, in \u001b[36mClientSession._request\u001b[39m\u001b[34m(self, method, str_or_url, params, data, json, cookies, headers, skip_auto_headers, auth, allow_redirects, max_redirects, compress, chunked, expect100, raise_for_status, read_until_eof, proxy, proxy_auth, timeout, verify_ssl, fingerprint, ssl_context, ssl, server_hostname, proxy_headers, trace_request_ctx, read_bufsize, auto_decompress, max_line_size, max_field_size)\u001b[39m\n\u001b[32m    702\u001b[39m \u001b[38;5;28;01mtry\u001b[39;00m:\n\u001b[32m--> \u001b[39m\u001b[32m703\u001b[39m     conn = \u001b[38;5;28;01mawait\u001b[39;00m \u001b[38;5;28mself\u001b[39m._connector.connect(\n\u001b[32m    704\u001b[39m         req, traces=traces, timeout=real_timeout\n\u001b[32m    705\u001b[39m     )\n\u001b[32m    706\u001b[39m \u001b[38;5;28;01mexcept\u001b[39;00m asyncio.TimeoutError \u001b[38;5;28;01mas\u001b[39;00m exc:\n",
      "\u001b[36mFile \u001b[39m\u001b[32me:\\GIT\\ai-agents-for-beginners\\.venv\\Lib\\site-packages\\aiohttp\\connector.py:548\u001b[39m, in \u001b[36mBaseConnector.connect\u001b[39m\u001b[34m(self, req, traces, timeout)\u001b[39m\n\u001b[32m    547\u001b[39m         \u001b[38;5;28;01mawait\u001b[39;00m trace.send_connection_create_start()\n\u001b[32m--> \u001b[39m\u001b[32m548\u001b[39m proto = \u001b[38;5;28;01mawait\u001b[39;00m \u001b[38;5;28mself\u001b[39m._create_connection(req, traces, timeout)\n\u001b[32m    549\u001b[39m \u001b[38;5;28;01mif\u001b[39;00m traces:\n",
      "\u001b[36mFile \u001b[39m\u001b[32me:\\GIT\\ai-agents-for-beginners\\.venv\\Lib\\site-packages\\aiohttp\\connector.py:1056\u001b[39m, in \u001b[36mTCPConnector._create_connection\u001b[39m\u001b[34m(self, req, traces, timeout)\u001b[39m\n\u001b[32m   1055\u001b[39m \u001b[38;5;28;01melse\u001b[39;00m:\n\u001b[32m-> \u001b[39m\u001b[32m1056\u001b[39m     _, proto = \u001b[38;5;28;01mawait\u001b[39;00m \u001b[38;5;28mself\u001b[39m._create_direct_connection(req, traces, timeout)\n\u001b[32m   1058\u001b[39m \u001b[38;5;28;01mreturn\u001b[39;00m proto\n",
      "\u001b[36mFile \u001b[39m\u001b[32me:\\GIT\\ai-agents-for-beginners\\.venv\\Lib\\site-packages\\aiohttp\\connector.py:1357\u001b[39m, in \u001b[36mTCPConnector._create_direct_connection\u001b[39m\u001b[34m(self, req, traces, timeout, client_error)\u001b[39m\n\u001b[32m   1355\u001b[39m     \u001b[38;5;66;03m# in case of proxy it is not ClientProxyConnectionError\u001b[39;00m\n\u001b[32m   1356\u001b[39m     \u001b[38;5;66;03m# it is problem of resolving proxy ip itself\u001b[39;00m\n\u001b[32m-> \u001b[39m\u001b[32m1357\u001b[39m     \u001b[38;5;28;01mraise\u001b[39;00m ClientConnectorDNSError(req.connection_key, exc) \u001b[38;5;28;01mfrom\u001b[39;00m\u001b[38;5;250m \u001b[39m\u001b[34;01mexc\u001b[39;00m\n\u001b[32m   1359\u001b[39m last_exc: Optional[\u001b[38;5;167;01mException\u001b[39;00m] = \u001b[38;5;28;01mNone\u001b[39;00m\n",
      "\u001b[31mClientConnectorDNSError\u001b[39m: Cannot connect to host models.inference.ai.azure.com:443 ssl:default [getaddrinfo failed]",
      "\nThe above exception was the direct cause of the following exception:\n",
      "\u001b[31mServiceRequestError\u001b[39m                       Traceback (most recent call last)",
      "\u001b[36mCell\u001b[39m\u001b[36m \u001b[39m\u001b[32mIn[7]\u001b[39m\u001b[32m, line 16\u001b[39m\n\u001b[32m      1\u001b[39m load_dotenv()\n\u001b[32m      2\u001b[39m client = AzureAIChatCompletionClient(\n\u001b[32m      3\u001b[39m     model=\u001b[33m\"\u001b[39m\u001b[33mgpt-4o-mini\u001b[39m\u001b[33m\"\u001b[39m,\n\u001b[32m      4\u001b[39m     endpoint=\u001b[33m\"\u001b[39m\u001b[33mhttps://models.inference.ai.azure.com\u001b[39m\u001b[33m\"\u001b[39m,\n\u001b[32m   (...)\u001b[39m\u001b[32m     13\u001b[39m     },\n\u001b[32m     14\u001b[39m )\n\u001b[32m---> \u001b[39m\u001b[32m16\u001b[39m result = \u001b[38;5;28;01mawait\u001b[39;00m client.create([UserMessage(content=\u001b[33m\"\u001b[39m\u001b[33m¿Cuál es la capital de Francia?\u001b[39m\u001b[33m\"\u001b[39m, source=\u001b[33m\"\u001b[39m\u001b[33muser\u001b[39m\u001b[33m\"\u001b[39m)])\n\u001b[32m     17\u001b[39m \u001b[38;5;28mprint\u001b[39m(result)\n",
      "\u001b[36mFile \u001b[39m\u001b[32me:\\GIT\\ai-agents-for-beginners\\.venv\\Lib\\site-packages\\autogen_ext\\models\\azure\\_azure_ai_client.py:333\u001b[39m, in \u001b[36mAzureAIChatCompletionClient.create\u001b[39m\u001b[34m(self, messages, tools, json_output, extra_create_args, cancellation_token)\u001b[39m\n\u001b[32m    330\u001b[39m \u001b[38;5;28;01mif\u001b[39;00m cancellation_token \u001b[38;5;129;01mis\u001b[39;00m \u001b[38;5;129;01mnot\u001b[39;00m \u001b[38;5;28;01mNone\u001b[39;00m:\n\u001b[32m    331\u001b[39m     cancellation_token.link_future(task)\n\u001b[32m--> \u001b[39m\u001b[32m333\u001b[39m result: ChatCompletions = \u001b[38;5;28;01mawait\u001b[39;00m task\n\u001b[32m    335\u001b[39m usage = RequestUsage(\n\u001b[32m    336\u001b[39m     prompt_tokens=result.usage.prompt_tokens \u001b[38;5;28;01mif\u001b[39;00m result.usage \u001b[38;5;28;01melse\u001b[39;00m \u001b[32m0\u001b[39m,\n\u001b[32m    337\u001b[39m     completion_tokens=result.usage.completion_tokens \u001b[38;5;28;01mif\u001b[39;00m result.usage \u001b[38;5;28;01melse\u001b[39;00m \u001b[32m0\u001b[39m,\n\u001b[32m    338\u001b[39m )\n\u001b[32m    340\u001b[39m choice = result.choices[\u001b[32m0\u001b[39m]\n",
      "\u001b[36mFile \u001b[39m\u001b[32me:\\GIT\\ai-agents-for-beginners\\.venv\\Lib\\site-packages\\azure\\ai\\inference\\aio\\_patch.py:666\u001b[39m, in \u001b[36mChatCompletionsClient.complete\u001b[39m\u001b[34m(self, body, messages, stream, frequency_penalty, presence_penalty, temperature, top_p, max_tokens, response_format, stop, tools, tool_choice, seed, model, model_extras, **kwargs)\u001b[39m\n\u001b[32m    663\u001b[39m _request.url = \u001b[38;5;28mself\u001b[39m._client.format_url(_request.url, **path_format_arguments)\n\u001b[32m    665\u001b[39m _stream = stream \u001b[38;5;129;01mor\u001b[39;00m \u001b[38;5;28;01mFalse\u001b[39;00m\n\u001b[32m--> \u001b[39m\u001b[32m666\u001b[39m pipeline_response: PipelineResponse = \u001b[38;5;28;01mawait\u001b[39;00m \u001b[38;5;28mself\u001b[39m._client._pipeline.run(  \u001b[38;5;66;03m# type: ignore # pylint: disable=protected-access\u001b[39;00m\n\u001b[32m    667\u001b[39m     _request, stream=_stream, **kwargs\n\u001b[32m    668\u001b[39m )\n\u001b[32m    670\u001b[39m response = pipeline_response.http_response\n\u001b[32m    672\u001b[39m \u001b[38;5;28;01mif\u001b[39;00m response.status_code \u001b[38;5;129;01mnot\u001b[39;00m \u001b[38;5;129;01min\u001b[39;00m [\u001b[32m200\u001b[39m]:\n",
      "\u001b[36mFile \u001b[39m\u001b[32me:\\GIT\\ai-agents-for-beginners\\.venv\\Lib\\site-packages\\azure\\core\\pipeline\\_base_async.py:229\u001b[39m, in \u001b[36mAsyncPipeline.run\u001b[39m\u001b[34m(self, request, **kwargs)\u001b[39m\n\u001b[32m    227\u001b[39m pipeline_request = PipelineRequest(request, context)\n\u001b[32m    228\u001b[39m first_node = \u001b[38;5;28mself\u001b[39m._impl_policies[\u001b[32m0\u001b[39m] \u001b[38;5;28;01mif\u001b[39;00m \u001b[38;5;28mself\u001b[39m._impl_policies \u001b[38;5;28;01melse\u001b[39;00m _AsyncTransportRunner(\u001b[38;5;28mself\u001b[39m._transport)\n\u001b[32m--> \u001b[39m\u001b[32m229\u001b[39m \u001b[38;5;28;01mreturn\u001b[39;00m \u001b[38;5;28;01mawait\u001b[39;00m first_node.send(pipeline_request)\n",
      "\u001b[36mFile \u001b[39m\u001b[32me:\\GIT\\ai-agents-for-beginners\\.venv\\Lib\\site-packages\\azure\\core\\pipeline\\_base_async.py:77\u001b[39m, in \u001b[36m_SansIOAsyncHTTPPolicyRunner.send\u001b[39m\u001b[34m(self, request)\u001b[39m\n\u001b[32m     75\u001b[39m response: PipelineResponse[HTTPRequestType, AsyncHTTPResponseType]\n\u001b[32m     76\u001b[39m \u001b[38;5;28;01mtry\u001b[39;00m:\n\u001b[32m---> \u001b[39m\u001b[32m77\u001b[39m     response = \u001b[38;5;28;01mawait\u001b[39;00m \u001b[38;5;28mself\u001b[39m.next.send(request)\n\u001b[32m     78\u001b[39m \u001b[38;5;28;01mexcept\u001b[39;00m \u001b[38;5;167;01mException\u001b[39;00m:\n\u001b[32m     79\u001b[39m     \u001b[38;5;28;01mawait\u001b[39;00m _await_result(\u001b[38;5;28mself\u001b[39m._policy.on_exception, request)\n",
      "\u001b[36mFile \u001b[39m\u001b[32me:\\GIT\\ai-agents-for-beginners\\.venv\\Lib\\site-packages\\azure\\core\\pipeline\\_base_async.py:77\u001b[39m, in \u001b[36m_SansIOAsyncHTTPPolicyRunner.send\u001b[39m\u001b[34m(self, request)\u001b[39m\n\u001b[32m     75\u001b[39m response: PipelineResponse[HTTPRequestType, AsyncHTTPResponseType]\n\u001b[32m     76\u001b[39m \u001b[38;5;28;01mtry\u001b[39;00m:\n\u001b[32m---> \u001b[39m\u001b[32m77\u001b[39m     response = \u001b[38;5;28;01mawait\u001b[39;00m \u001b[38;5;28mself\u001b[39m.next.send(request)\n\u001b[32m     78\u001b[39m \u001b[38;5;28;01mexcept\u001b[39;00m \u001b[38;5;167;01mException\u001b[39;00m:\n\u001b[32m     79\u001b[39m     \u001b[38;5;28;01mawait\u001b[39;00m _await_result(\u001b[38;5;28mself\u001b[39m._policy.on_exception, request)\n",
      "    \u001b[31m[... skipping similar frames: _SansIOAsyncHTTPPolicyRunner.send at line 77 (2 times)]\u001b[39m\n",
      "\u001b[36mFile \u001b[39m\u001b[32me:\\GIT\\ai-agents-for-beginners\\.venv\\Lib\\site-packages\\azure\\core\\pipeline\\_base_async.py:77\u001b[39m, in \u001b[36m_SansIOAsyncHTTPPolicyRunner.send\u001b[39m\u001b[34m(self, request)\u001b[39m\n\u001b[32m     75\u001b[39m response: PipelineResponse[HTTPRequestType, AsyncHTTPResponseType]\n\u001b[32m     76\u001b[39m \u001b[38;5;28;01mtry\u001b[39;00m:\n\u001b[32m---> \u001b[39m\u001b[32m77\u001b[39m     response = \u001b[38;5;28;01mawait\u001b[39;00m \u001b[38;5;28mself\u001b[39m.next.send(request)\n\u001b[32m     78\u001b[39m \u001b[38;5;28;01mexcept\u001b[39;00m \u001b[38;5;167;01mException\u001b[39;00m:\n\u001b[32m     79\u001b[39m     \u001b[38;5;28;01mawait\u001b[39;00m _await_result(\u001b[38;5;28mself\u001b[39m._policy.on_exception, request)\n",
      "\u001b[36mFile \u001b[39m\u001b[32me:\\GIT\\ai-agents-for-beginners\\.venv\\Lib\\site-packages\\azure\\core\\pipeline\\policies\\_redirect_async.py:76\u001b[39m, in \u001b[36mAsyncRedirectPolicy.send\u001b[39m\u001b[34m(self, request)\u001b[39m\n\u001b[32m     74\u001b[39m original_domain = get_domain(request.http_request.url) \u001b[38;5;28;01mif\u001b[39;00m redirect_settings[\u001b[33m\"\u001b[39m\u001b[33mallow\u001b[39m\u001b[33m\"\u001b[39m] \u001b[38;5;28;01melse\u001b[39;00m \u001b[38;5;28;01mNone\u001b[39;00m\n\u001b[32m     75\u001b[39m \u001b[38;5;28;01mwhile\u001b[39;00m redirects_remaining:\n\u001b[32m---> \u001b[39m\u001b[32m76\u001b[39m     response = \u001b[38;5;28;01mawait\u001b[39;00m \u001b[38;5;28mself\u001b[39m.next.send(request)\n\u001b[32m     77\u001b[39m     redirect_location = \u001b[38;5;28mself\u001b[39m.get_redirect_location(response)\n\u001b[32m     78\u001b[39m     \u001b[38;5;28;01mif\u001b[39;00m redirect_location \u001b[38;5;129;01mand\u001b[39;00m redirect_settings[\u001b[33m\"\u001b[39m\u001b[33mallow\u001b[39m\u001b[33m\"\u001b[39m]:\n",
      "\u001b[36mFile \u001b[39m\u001b[32me:\\GIT\\ai-agents-for-beginners\\.venv\\Lib\\site-packages\\azure\\core\\pipeline\\policies\\_retry_async.py:204\u001b[39m, in \u001b[36mAsyncRetryPolicy.send\u001b[39m\u001b[34m(self, request)\u001b[39m\n\u001b[32m    202\u001b[39m                 is_response_error = \u001b[38;5;28;01mTrue\u001b[39;00m\n\u001b[32m    203\u001b[39m             \u001b[38;5;28;01mcontinue\u001b[39;00m\n\u001b[32m--> \u001b[39m\u001b[32m204\u001b[39m     \u001b[38;5;28;01mraise\u001b[39;00m err\n\u001b[32m    205\u001b[39m \u001b[38;5;28;01mfinally\u001b[39;00m:\n\u001b[32m    206\u001b[39m     end_time = time.time()\n",
      "\u001b[36mFile \u001b[39m\u001b[32me:\\GIT\\ai-agents-for-beginners\\.venv\\Lib\\site-packages\\azure\\core\\pipeline\\policies\\_retry_async.py:178\u001b[39m, in \u001b[36mAsyncRetryPolicy.send\u001b[39m\u001b[34m(self, request)\u001b[39m\n\u001b[32m    176\u001b[39m \u001b[38;5;28mself\u001b[39m._configure_timeout(request, absolute_timeout, is_response_error)\n\u001b[32m    177\u001b[39m request.context[\u001b[33m\"\u001b[39m\u001b[33mretry_count\u001b[39m\u001b[33m\"\u001b[39m] = \u001b[38;5;28mlen\u001b[39m(retry_settings[\u001b[33m\"\u001b[39m\u001b[33mhistory\u001b[39m\u001b[33m\"\u001b[39m])\n\u001b[32m--> \u001b[39m\u001b[32m178\u001b[39m response = \u001b[38;5;28;01mawait\u001b[39;00m \u001b[38;5;28mself\u001b[39m.next.send(request)\n\u001b[32m    179\u001b[39m \u001b[38;5;28;01mif\u001b[39;00m \u001b[38;5;28mself\u001b[39m.is_retry(retry_settings, response):\n\u001b[32m    180\u001b[39m     retry_active = \u001b[38;5;28mself\u001b[39m.increment(retry_settings, response=response)\n",
      "\u001b[36mFile \u001b[39m\u001b[32me:\\GIT\\ai-agents-for-beginners\\.venv\\Lib\\site-packages\\azure\\core\\pipeline\\_base_async.py:77\u001b[39m, in \u001b[36m_SansIOAsyncHTTPPolicyRunner.send\u001b[39m\u001b[34m(self, request)\u001b[39m\n\u001b[32m     75\u001b[39m response: PipelineResponse[HTTPRequestType, AsyncHTTPResponseType]\n\u001b[32m     76\u001b[39m \u001b[38;5;28;01mtry\u001b[39;00m:\n\u001b[32m---> \u001b[39m\u001b[32m77\u001b[39m     response = \u001b[38;5;28;01mawait\u001b[39;00m \u001b[38;5;28mself\u001b[39m.next.send(request)\n\u001b[32m     78\u001b[39m \u001b[38;5;28;01mexcept\u001b[39;00m \u001b[38;5;167;01mException\u001b[39;00m:\n\u001b[32m     79\u001b[39m     \u001b[38;5;28;01mawait\u001b[39;00m _await_result(\u001b[38;5;28mself\u001b[39m._policy.on_exception, request)\n",
      "\u001b[36mFile \u001b[39m\u001b[32me:\\GIT\\ai-agents-for-beginners\\.venv\\Lib\\site-packages\\azure\\core\\pipeline\\_base_async.py:77\u001b[39m, in \u001b[36m_SansIOAsyncHTTPPolicyRunner.send\u001b[39m\u001b[34m(self, request)\u001b[39m\n\u001b[32m     75\u001b[39m response: PipelineResponse[HTTPRequestType, AsyncHTTPResponseType]\n\u001b[32m     76\u001b[39m \u001b[38;5;28;01mtry\u001b[39;00m:\n\u001b[32m---> \u001b[39m\u001b[32m77\u001b[39m     response = \u001b[38;5;28;01mawait\u001b[39;00m \u001b[38;5;28mself\u001b[39m.next.send(request)\n\u001b[32m     78\u001b[39m \u001b[38;5;28;01mexcept\u001b[39;00m \u001b[38;5;167;01mException\u001b[39;00m:\n\u001b[32m     79\u001b[39m     \u001b[38;5;28;01mawait\u001b[39;00m _await_result(\u001b[38;5;28mself\u001b[39m._policy.on_exception, request)\n",
      "    \u001b[31m[... skipping similar frames: _SansIOAsyncHTTPPolicyRunner.send at line 77 (3 times)]\u001b[39m\n",
      "\u001b[36mFile \u001b[39m\u001b[32me:\\GIT\\ai-agents-for-beginners\\.venv\\Lib\\site-packages\\azure\\core\\pipeline\\_base_async.py:77\u001b[39m, in \u001b[36m_SansIOAsyncHTTPPolicyRunner.send\u001b[39m\u001b[34m(self, request)\u001b[39m\n\u001b[32m     75\u001b[39m response: PipelineResponse[HTTPRequestType, AsyncHTTPResponseType]\n\u001b[32m     76\u001b[39m \u001b[38;5;28;01mtry\u001b[39;00m:\n\u001b[32m---> \u001b[39m\u001b[32m77\u001b[39m     response = \u001b[38;5;28;01mawait\u001b[39;00m \u001b[38;5;28mself\u001b[39m.next.send(request)\n\u001b[32m     78\u001b[39m \u001b[38;5;28;01mexcept\u001b[39;00m \u001b[38;5;167;01mException\u001b[39;00m:\n\u001b[32m     79\u001b[39m     \u001b[38;5;28;01mawait\u001b[39;00m _await_result(\u001b[38;5;28mself\u001b[39m._policy.on_exception, request)\n",
      "\u001b[36mFile \u001b[39m\u001b[32me:\\GIT\\ai-agents-for-beginners\\.venv\\Lib\\site-packages\\azure\\core\\pipeline\\_base_async.py:111\u001b[39m, in \u001b[36m_AsyncTransportRunner.send\u001b[39m\u001b[34m(self, request)\u001b[39m\n\u001b[32m    101\u001b[39m \u001b[38;5;250m\u001b[39m\u001b[33;03m\"\"\"Async HTTP transport send method.\u001b[39;00m\n\u001b[32m    102\u001b[39m \n\u001b[32m    103\u001b[39m \u001b[33;03m:param request: The PipelineRequest object.\u001b[39;00m\n\u001b[32m   (...)\u001b[39m\u001b[32m    106\u001b[39m \u001b[33;03m:rtype: ~azure.core.pipeline.PipelineResponse\u001b[39;00m\n\u001b[32m    107\u001b[39m \u001b[33;03m\"\"\"\u001b[39;00m\n\u001b[32m    108\u001b[39m cleanup_kwargs_for_transport(request.context.options)\n\u001b[32m    109\u001b[39m \u001b[38;5;28;01mreturn\u001b[39;00m PipelineResponse(\n\u001b[32m    110\u001b[39m     request.http_request,\n\u001b[32m--> \u001b[39m\u001b[32m111\u001b[39m     \u001b[38;5;28;01mawait\u001b[39;00m \u001b[38;5;28mself\u001b[39m._sender.send(request.http_request, **request.context.options),\n\u001b[32m    112\u001b[39m     request.context,\n\u001b[32m    113\u001b[39m )\n",
      "\u001b[36mFile \u001b[39m\u001b[32me:\\GIT\\ai-agents-for-beginners\\.venv\\Lib\\site-packages\\azure\\core\\pipeline\\transport\\_aiohttp.py:350\u001b[39m, in \u001b[36mAioHttpTransport.send\u001b[39m\u001b[34m(self, request, stream, proxies, **config)\u001b[39m\n\u001b[32m    348\u001b[39m     \u001b[38;5;28;01mraise\u001b[39;00m ServiceResponseError(err, error=err) \u001b[38;5;28;01mfrom\u001b[39;00m\u001b[38;5;250m \u001b[39m\u001b[34;01merr\u001b[39;00m\n\u001b[32m    349\u001b[39m \u001b[38;5;28;01mexcept\u001b[39;00m aiohttp.client_exceptions.ClientError \u001b[38;5;28;01mas\u001b[39;00m err:\n\u001b[32m--> \u001b[39m\u001b[32m350\u001b[39m     \u001b[38;5;28;01mraise\u001b[39;00m ServiceRequestError(err, error=err) \u001b[38;5;28;01mfrom\u001b[39;00m\u001b[38;5;250m \u001b[39m\u001b[34;01merr\u001b[39;00m\n\u001b[32m    351\u001b[39m \u001b[38;5;28;01mreturn\u001b[39;00m response\n",
      "\u001b[31mServiceRequestError\u001b[39m: Cannot connect to host models.inference.ai.azure.com:443 ssl:default [getaddrinfo failed]"
     ]
    }
   ],
   "source": [
    "load_dotenv()\n",
    "client = AzureAIChatCompletionClient(\n",
    "    model=\"gpt-4o-mini\",\n",
    "    endpoint=\"https://models.inference.ai.azure.com\",\n",
    "    # To authenticate with the model you will need to generate a personal access token (PAT) in your GitHub settings.\n",
    "    # Create your PAT token by following instructions here: https://docs.github.com/en/authentication/keeping-your-account-and-data-secure/managing-your-personal-access-tokens\n",
    "    credential=AzureKeyCredential(os.getenv(\"GITHUB_TOKEN\")),\n",
    "    model_info={\n",
    "        \"json_output\": True,\n",
    "        \"function_calling\": True,\n",
    "        \"vision\": True,\n",
    "        \"family\": \"unknown\",\n",
    "    },\n",
    ")\n",
    "\n",
    "result = await client.create([UserMessage(content=\"¿Cuál es la capital de Francia?\", source=\"user\")])\n",
    "print(result)"
   ]
  },
  {
   "cell_type": "markdown",
   "metadata": {},
   "source": [
    "## Definición del agente\n",
    "\n",
    "Ahora que hemos configurado el `client` y confirmado que funciona, vamos a crear un `AssistantAgent`. EA cada agente se le puede asignar: \n",
    "**name** - Un nombre abreviado que será útil para referenciarlo en flujos de múltiples agentes.\n",
    "**model_client** - El cliente que creó en el paso anterior.\n",
    "**tools** - Herramientas disponibles que el Agente puede utilizar para completar una tarea.\n",
    "**system_message** - El metaprompt que define la tarea, el comportamiento y el tono del LLM.\n",
    "\n",
    "Puedes cambiar el mensaje del sistema para ver cómo responde el LLM. Abordaremos este tema. `tools` en la lección #4. \n"
   ]
  },
  {
   "cell_type": "code",
   "execution_count": null,
   "metadata": {},
   "outputs": [],
   "source": [
    "agent = AssistantAgent(\n",
    "    name=\"assistant\",\n",
    "    model_client=client,\n",
    "    tools=[],\n",
    "    system_message=\"Eres un agente de viajes que planifica unas vacaciones fantásticas.\",\n",
    ")"
   ]
  },
  {
   "cell_type": "markdown",
   "metadata": {},
   "source": [
    "## Ejecutar el agente\n",
    "\n",
    "La siguiente función ejecutará el agente. Usamos el `on_message` método para actualizar el estado del Agente con el nuevo mensaje. \n",
    "\n",
    "En este caso, actualizamos el estado con un nuevo mensaje del usuario que es `\"Planifícame unas estupendas vacaciones soleadas\"`.\n",
    "\n",
    "Puede cambiar el contenido del mensaje para ver cómo el LLM responde de manera diferente."
   ]
  },
  {
   "cell_type": "code",
   "execution_count": null,
   "metadata": {},
   "outputs": [
    {
     "data": {
      "text/html": [
       "<div style='margin-bottom:10px'><div style='font-weight:bold'>User:</div><div style='margin-left:20px'>Planifícame unas estupendas vacaciones soleadas</div></div><div style='margin-bottom:20px'><div style='font-weight:bold'>Assistant:</div><div style='margin-left:20px; white-space:pre-wrap'>¡Claro! Aquí tienes una propuesta para unas vacaciones soleadas perfectas, con un enfoque en playa, relax y actividad:\n",
       "\n",
       "### Destino: Costa del Sol, España\n",
       "\n",
       "#### Duración: 7 días\n",
       "\n",
       "**Día 1: Llegada a Málaga**\n",
       "- Vuelo a Aeropuerto de Málaga-Costa del Sol.\n",
       "- Registro en un hotel de 4 estrellas en Marbella (ej. Hotel Gran Meliá Don Pepe).\n",
       "- Relájate en la piscina del hotel o pasea por el paseo marítimo.\n",
       "\n",
       "**Día 2: Día de Playa en Marbella**\n",
       "- Desayuno en el hotel.\n",
       "- Pasar el día en la Playa de la Fontanilla, con actividades acuáticas opcionales como paddle surf.\n",
       "- Almuerzo en un chiringuito (restaurante de playa).\n",
       "- Tarde libre para explorar el Casco Antiguo de Marbella.\n",
       "- Cena en un restaurante con vistas al mar.\n",
       "\n",
       "**Día 3: Excursión a Ronda**\n",
       "- Desayuno y salida hacia Ronda (1.5 horas en coche).\n",
       "- Visita el famoso Puente Nuevo y la Plaza de Toros.\n",
       "- Almuerzo en un restaurante local.\n",
       "- Regreso a Marbella y cena en el hotel.\n",
       "\n",
       "**Día 4: Día de Aventura en Tarifa**\n",
       "- Excursión a Tarifa, famosa por sus playas y windsurfing (1.5 horas en coche).\n",
       "- Opción de probar clases de kitesurf o simplemente disfrutar de la playa.\n",
       "- Almuerzo en un chiringuito en la playa de Valdevaqueros.\n",
       "- Regreso a Marbella para cenar.\n",
       "\n",
       "**Día 5: Relax en la Playa y Spa**\n",
       "- Desayuno en el hotel.\n",
       "- Día de descanso en la playa de Nikki Beach.\n",
       "- Por la tarde, reserva un tratamiento de spa en el hotel.\n",
       "- Cena en un restaurante de lujo en Marbella.\n",
       "\n",
       "**Día 6: Cultura y Gastronomía en Málaga**\n",
       "- Viaje a Málaga (45 minutos en coche).\n",
       "- Visita al Museo Picasso y la Catedral.\n",
       "- Almuerzo en el Mercado de Atarazanas, probando tapas locales.\n",
       "- Tarde libre para ir de compras o disfrutar de la playa de la Malagueta.\n",
       "- Cena en un restaurante tradicional malagueño.\n",
       "\n",
       "**Día 7: Regreso a Casa**\n",
       "- Desayuno en el hotel.\n",
       "- Tiempo libre hasta la hora del vuelo.\n",
       "- Traslado al Aeropuerto de Málaga para el vuelo de regreso.\n",
       "\n",
       "### Consejo Adicional:\n",
       "- Verifica las condiciones climáticas para asegurarte de que las fechas elegidas son soleadas.\n",
       "- Si prefieres un destino diferente, aquí hay otras opciones: Costa Rica, Bahamas, Islas Baleares, o las playas de Cancún, México.\n",
       "\n",
       "¿Te gustaría ver algo más específico o adaptar el plan a tus preferencias? ¡Estoy aquí para ayudarte!</div></div>"
      ],
      "text/plain": [
       "<IPython.core.display.HTML object>"
      ]
     },
     "metadata": {},
     "output_type": "display_data"
    }
   ],
   "source": [
    "from IPython.display import display, HTML\n",
    "\n",
    "\n",
    "async def assistant_run():\n",
    "    # Define the query\n",
    "    user_query = \"Planifícame unas estupendas vacaciones soleadas\"\n",
    "\n",
    "    # Start building HTML output\n",
    "    html_output = \"<div style='margin-bottom:10px'>\"\n",
    "    html_output += \"<div style='font-weight:bold'>User:</div>\"\n",
    "    html_output += f\"<div style='margin-left:20px'>{user_query}</div>\"\n",
    "    html_output += \"</div>\"\n",
    "\n",
    "    # Execute the agent response\n",
    "    response = await agent.on_messages(\n",
    "        [TextMessage(content=user_query, source=\"user\")],\n",
    "        cancellation_token=CancellationToken(),\n",
    "    )\n",
    "\n",
    "    # Add agent response to HTML\n",
    "    html_output += \"<div style='margin-bottom:20px'>\"\n",
    "    html_output += \"<div style='font-weight:bold'>Assistant:</div>\"\n",
    "    html_output += f\"<div style='margin-left:20px; white-space:pre-wrap'>{response.chat_message.content}</div>\"\n",
    "    html_output += \"</div>\"\n",
    "\n",
    "    # Display formatted HTML\n",
    "    display(HTML(html_output))\n",
    "\n",
    "# Run the function\n",
    "await assistant_run()"
   ]
  }
 ],
 "metadata": {
  "kernelspec": {
   "display_name": ".venv",
   "language": "python",
   "name": "python3"
  },
  "language_info": {
   "codemirror_mode": {
    "name": "ipython",
    "version": 3
   },
   "file_extension": ".py",
   "mimetype": "text/x-python",
   "name": "python",
   "nbconvert_exporter": "python",
   "pygments_lexer": "ipython3",
   "version": "3.12.10"
  }
 },
 "nbformat": 4,
 "nbformat_minor": 2
}
