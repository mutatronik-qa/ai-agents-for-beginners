{
 "cells": [
  {
   "cell_type": "markdown",
   "metadata": {},
   "source": [
    "# Muestra básica de AutoGen\n",
    "\n",
    "En este ejemplo de código, utilizará el [AutoGen](https://aka.ms/ai-agents/autogen) Marco de IA para crear un agente básico.\n",
    "\n",
    "El objetivo de este ejemplo es mostrarle los pasos que usaremos más adelante en los ejemplos de código adicionales al implementar los diferentes patrones de agencia."
   ]
  },
  {
   "cell_type": "markdown",
   "metadata": {},
   "source": [
    "## Import the Needed Python Packages "
   ]
  },
  {
   "cell_type": "code",
   "execution_count": 2,
   "metadata": {},
   "outputs": [],
   "source": [
    "import os\n",
    "from dotenv import load_dotenv\n",
    "\n",
    "from autogen_agentchat.agents import AssistantAgent\n",
    "from autogen_core.models import UserMessage\n",
    "from autogen_ext.models.azure import AzureAIChatCompletionClient\n",
    "from azure.core.credentials import AzureKeyCredential\n",
    "from autogen_core import CancellationToken\n",
    "\n",
    "from autogen_agentchat.messages import TextMessage\n",
    "from autogen_agentchat.ui import Console\n"
   ]
  },
  {
   "cell_type": "markdown",
   "metadata": {},
   "source": [
    "## Create the Client \n",
    "\n",
    "En este ejemplo, utilizaremos[GitHub Models](https://aka.ms/ai-agents-beginners/github-models) para acceder al LLM. \n",
    "\n",
    "El `model` esta definidocomo  `gpt-4o-mini`. TPrueba a cambiarlo por otro disponible en la tienda de modelos de GitHub para ver los diferentes resultados.\n",
    "\n",
    "Como prueba rápida, simplemente ejecutaremos un mensaje simple. - `¿Cuál es la capital de Francia?`. "
   ]
  },
  {
   "cell_type": "code",
   "execution_count": 3,
   "metadata": {},
   "outputs": [
    {
     "name": "stdout",
     "output_type": "stream",
     "text": [
      "finish_reason='stop' content='La capital de Francia es París.' usage=RequestUsage(prompt_tokens=15, completion_tokens=8) cached=False logprobs=None thought=None\n"
     ]
    }
   ],
   "source": [
    "load_dotenv()\n",
    "client = AzureAIChatCompletionClient(\n",
    "    model=\"gpt-4o-mini\",\n",
    "    endpoint=\"https://models.inference.ai.azure.com\",\n",
    "    # To authenticate with the model you will need to generate a personal access token (PAT) in your GitHub settings.\n",
    "    # Create your PAT token by following instructions here: https://docs.github.com/en/authentication/keeping-your-account-and-data-secure/managing-your-personal-access-tokens\n",
    "    credential=AzureKeyCredential(os.getenv(\"GITHUB_TOKEN\")),\n",
    "    model_info={\n",
    "        \"json_output\": True,\n",
    "        \"function_calling\": True,\n",
    "        \"vision\": True,\n",
    "        \"family\": \"unknown\",\n",
    "    },\n",
    ")\n",
    "\n",
    "result = await client.create([UserMessage(content=\"¿Cuál es la capital de Francia?\", source=\"user\")])\n",
    "print(result)"
   ]
  },
  {
   "cell_type": "markdown",
   "metadata": {},
   "source": [
    "## Definición del agente\n",
    "\n",
    "Ahora que hemos configurado el `client` y confirmado que funciona, vamos a crear un `AssistantAgent`. EA cada agente se le puede asignar: \n",
    "**name** - Un nombre abreviado que será útil para referenciarlo en flujos de múltiples agentes.\n",
    "**model_client** - El cliente que creó en el paso anterior.\n",
    "**tools** - Herramientas disponibles que el Agente puede utilizar para completar una tarea.\n",
    "**system_message** - El metaprompt que define la tarea, el comportamiento y el tono del LLM.\n",
    "\n",
    "Puedes cambiar el mensaje del sistema para ver cómo responde el LLM. Abordaremos este tema. `tools` en la lección #4. \n"
   ]
  },
  {
   "cell_type": "code",
   "execution_count": 5,
   "metadata": {},
   "outputs": [],
   "source": [
    "agent = AssistantAgent(\n",
    "    name=\"assistant\",\n",
    "    model_client=client,\n",
    "    tools=[],\n",
    "    system_message=\"Eres un agente de viajes que planifica unas vacaciones fantásticas.\",\n",
    ")"
   ]
  },
  {
   "cell_type": "markdown",
   "metadata": {},
   "source": [
    "## Ejecutar el agente\n",
    "\n",
    "La siguiente función ejecutará el agente. Usamos el `on_message` método para actualizar el estado del Agente con el nuevo mensaje. \n",
    "\n",
    "En este caso, actualizamos el estado con un nuevo mensaje del usuario que es `\"Planifícame unas estupendas vacaciones soleadas\"`.\n",
    "\n",
    "Puede cambiar el contenido del mensaje para ver cómo el LLM responde de manera diferente."
   ]
  },
  {
   "cell_type": "code",
   "execution_count": 6,
   "metadata": {},
   "outputs": [
    {
     "data": {
      "text/html": [
       "<div style='margin-bottom:10px'><div style='font-weight:bold'>User:</div><div style='margin-left:20px'>Planifícame unas estupendas vacaciones soleadas</div></div><div style='margin-bottom:20px'><div style='font-weight:bold'>Assistant:</div><div style='margin-left:20px; white-space:pre-wrap'>¡Claro! Aquí tienes una propuesta para unas vacaciones soleadas perfectas, con un enfoque en playa, relax y actividad:\n",
       "\n",
       "### Destino: Costa del Sol, España\n",
       "\n",
       "#### Duración: 7 días\n",
       "\n",
       "**Día 1: Llegada a Málaga**\n",
       "- Vuelo a Aeropuerto de Málaga-Costa del Sol.\n",
       "- Registro en un hotel de 4 estrellas en Marbella (ej. Hotel Gran Meliá Don Pepe).\n",
       "- Relájate en la piscina del hotel o pasea por el paseo marítimo.\n",
       "\n",
       "**Día 2: Día de Playa en Marbella**\n",
       "- Desayuno en el hotel.\n",
       "- Pasar el día en la Playa de la Fontanilla, con actividades acuáticas opcionales como paddle surf.\n",
       "- Almuerzo en un chiringuito (restaurante de playa).\n",
       "- Tarde libre para explorar el Casco Antiguo de Marbella.\n",
       "- Cena en un restaurante con vistas al mar.\n",
       "\n",
       "**Día 3: Excursión a Ronda**\n",
       "- Desayuno y salida hacia Ronda (1.5 horas en coche).\n",
       "- Visita el famoso Puente Nuevo y la Plaza de Toros.\n",
       "- Almuerzo en un restaurante local.\n",
       "- Regreso a Marbella y cena en el hotel.\n",
       "\n",
       "**Día 4: Día de Aventura en Tarifa**\n",
       "- Excursión a Tarifa, famosa por sus playas y windsurfing (1.5 horas en coche).\n",
       "- Opción de probar clases de kitesurf o simplemente disfrutar de la playa.\n",
       "- Almuerzo en un chiringuito en la playa de Valdevaqueros.\n",
       "- Regreso a Marbella para cenar.\n",
       "\n",
       "**Día 5: Relax en la Playa y Spa**\n",
       "- Desayuno en el hotel.\n",
       "- Día de descanso en la playa de Nikki Beach.\n",
       "- Por la tarde, reserva un tratamiento de spa en el hotel.\n",
       "- Cena en un restaurante de lujo en Marbella.\n",
       "\n",
       "**Día 6: Cultura y Gastronomía en Málaga**\n",
       "- Viaje a Málaga (45 minutos en coche).\n",
       "- Visita al Museo Picasso y la Catedral.\n",
       "- Almuerzo en el Mercado de Atarazanas, probando tapas locales.\n",
       "- Tarde libre para ir de compras o disfrutar de la playa de la Malagueta.\n",
       "- Cena en un restaurante tradicional malagueño.\n",
       "\n",
       "**Día 7: Regreso a Casa**\n",
       "- Desayuno en el hotel.\n",
       "- Tiempo libre hasta la hora del vuelo.\n",
       "- Traslado al Aeropuerto de Málaga para el vuelo de regreso.\n",
       "\n",
       "### Consejo Adicional:\n",
       "- Verifica las condiciones climáticas para asegurarte de que las fechas elegidas son soleadas.\n",
       "- Si prefieres un destino diferente, aquí hay otras opciones: Costa Rica, Bahamas, Islas Baleares, o las playas de Cancún, México.\n",
       "\n",
       "¿Te gustaría ver algo más específico o adaptar el plan a tus preferencias? ¡Estoy aquí para ayudarte!</div></div>"
      ],
      "text/plain": [
       "<IPython.core.display.HTML object>"
      ]
     },
     "metadata": {},
     "output_type": "display_data"
    }
   ],
   "source": [
    "from IPython.display import display, HTML\n",
    "\n",
    "\n",
    "async def assistant_run():\n",
    "    # Define the query\n",
    "    user_query = \"Planifícame unas estupendas vacaciones soleadas\"\n",
    "\n",
    "    # Start building HTML output\n",
    "    html_output = \"<div style='margin-bottom:10px'>\"\n",
    "    html_output += \"<div style='font-weight:bold'>User:</div>\"\n",
    "    html_output += f\"<div style='margin-left:20px'>{user_query}</div>\"\n",
    "    html_output += \"</div>\"\n",
    "\n",
    "    # Execute the agent response\n",
    "    response = await agent.on_messages(\n",
    "        [TextMessage(content=user_query, source=\"user\")],\n",
    "        cancellation_token=CancellationToken(),\n",
    "    )\n",
    "\n",
    "    # Add agent response to HTML\n",
    "    html_output += \"<div style='margin-bottom:20px'>\"\n",
    "    html_output += \"<div style='font-weight:bold'>Assistant:</div>\"\n",
    "    html_output += f\"<div style='margin-left:20px; white-space:pre-wrap'>{response.chat_message.content}</div>\"\n",
    "    html_output += \"</div>\"\n",
    "\n",
    "    # Display formatted HTML\n",
    "    display(HTML(html_output))\n",
    "\n",
    "# Run the function\n",
    "await assistant_run()"
   ]
  }
 ],
 "metadata": {
  "kernelspec": {
   "display_name": ".venv",
   "language": "python",
   "name": "python3"
  },
  "language_info": {
   "codemirror_mode": {
    "name": "ipython",
    "version": 3
   },
   "file_extension": ".py",
   "mimetype": "text/x-python",
   "name": "python",
   "nbconvert_exporter": "python",
   "pygments_lexer": "ipython3",
   "version": "3.12.10"
  }
 },
 "nbformat": 4,
 "nbformat_minor": 2
}
