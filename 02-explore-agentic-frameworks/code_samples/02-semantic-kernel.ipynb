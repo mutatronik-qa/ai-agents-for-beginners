{
 "cells": [
  {
   "cell_type": "markdown",
   "metadata": {},
   "source": [
    "# Semantic Kernel \n",
    "\n",
    "In this code sample, you will use the [Semantic Kernel](https://aka.ms/ai-agents-beginners/semantic-kernel) AI Framework to create a basic agent. \n",
    "\n",
    "The goal of this sample is to show you the steps that we will later use in the addtional code samples when implementing the different agentic patterns. "
   ]
  },
  {
   "cell_type": "markdown",
   "metadata": {},
   "source": [
    "## Import the Needed Python Packages "
   ]
  },
  {
   "cell_type": "code",
   "execution_count": 1,
   "metadata": {},
   "outputs": [],
   "source": [
    "import json\n",
    "import os \n",
    "\n",
    "from typing import Annotated\n",
    "\n",
    "from dotenv import load_dotenv\n",
    "\n",
    "from IPython.display import display, HTML\n",
    "\n",
    "from openai import AsyncOpenAI\n",
    "\n",
    "from semantic_kernel.agents import ChatCompletionAgent, ChatHistoryAgentThread\n",
    "from semantic_kernel.connectors.ai.open_ai import OpenAIChatCompletion\n",
    "from semantic_kernel.contents import FunctionCallContent, FunctionResultContent, StreamingTextContent\n",
    "from semantic_kernel.functions import kernel_function"
   ]
  },
  {
   "cell_type": "markdown",
   "metadata": {},
   "source": [
    "## Creating the Client\n",
    "\n",
    "In this sample, we will use [GitHub Models](https://aka.ms/ai-agents-beginners/github-models) for access to the LLM. \n",
    "\n",
    "The `ai_model_id` is defined as `gpt-4o-mini`. Try changing the model to another model available on the GitHub Models marketplace to see the different results. \n",
    "\n",
    "For us to use the `Azure Inference SDK` that is used for the `base_url` for GitHub Models, we will use the `OpenAIChatCompletion` connector within Semantic Kernel. There are also other [available connectors](https://learn.microsoft.com/semantic-kernel/concepts/ai-services/chat-completion) to use Semantic Kernel for other model providers."
   ]
  },
  {
   "cell_type": "code",
   "execution_count": 2,
   "metadata": {},
   "outputs": [],
   "source": [
    "import random   \n",
    "\n",
    "# Define a sample plugin for the sample\n",
    "\n",
    "class DestinationsPlugin:\n",
    "    \"\"\"Una lista de destinos aleatorios para unas vacaciones.\"\"\"\n",
    "\n",
    "    def __init__(self):\n",
    "        # List of vacation destinations\n",
    "        self.destinations = [\n",
    "            \"Barcelona, Spain\",\n",
    "            \"Paris, France\",\n",
    "            \"Berlin, Germany\",\n",
    "            \"Tokyo, Japan\",\n",
    "            \"Sydney, Australia\",\n",
    "            \"New York, USA\",\n",
    "            \"Cairo, Egypt\",\n",
    "            \"Cape Town, South Africa\",\n",
    "            \"Rio de Janeiro, Brazil\",\n",
    "            \"Bali, Indonesia\"\n",
    "        ]\n",
    "        # Track last destination to avoid repeats\n",
    "        self.last_destination = None\n",
    "\n",
    "    @kernel_function(description=\"Proporciona un destino de vacaciones aleatorio.\")\n",
    "    def get_random_destination(self) -> Annotated[str, \"Devuelve un destino de vacaciones aleatorio.\"]:\n",
    "        # Get available destinations (excluding last one if possible)\n",
    "        available_destinations = self.destinations.copy()\n",
    "        if self.last_destination and len(available_destinations) > 1:\n",
    "            available_destinations.remove(self.last_destination)\n",
    "\n",
    "        # Select a random destination\n",
    "        destination = random.choice(available_destinations)\n",
    "\n",
    "        # Update the last destination\n",
    "        self.last_destination = destination\n",
    "\n",
    "        return destination"
   ]
  },
  {
   "cell_type": "code",
   "execution_count": 3,
   "metadata": {},
   "outputs": [],
   "source": [
    "load_dotenv()\n",
    "client = AsyncOpenAI(\n",
    "    api_key=os.environ.get(\"GITHUB_TOKEN\"), \n",
    "    base_url=\"https://models.inference.ai.azure.com/\",\n",
    ")\n",
    "\n",
    "# Create an AI Service that will be used by the `ChatCompletionAgent`\n",
    "chat_completion_service = OpenAIChatCompletion(\n",
    "    ai_model_id=\"gpt-4o-mini\",\n",
    "    async_client=client,\n",
    ")"
   ]
  },
  {
   "cell_type": "markdown",
   "metadata": {},
   "source": [
    "## Creating the Agent \n",
    "\n",
    "Below we create the Agent called `TravelAgent`.\n",
    "\n",
    "For this example, we are using very simple instructions. You can change these instructions to see how the agent responds differently. "
   ]
  },
  {
   "cell_type": "code",
   "execution_count": 4,
   "metadata": {},
   "outputs": [],
   "source": [
    "agent = ChatCompletionAgent(\n",
    "    service=chat_completion_service, \n",
    "    plugins=[DestinationsPlugin()],\n",
    "    name=\"TravelAgent\",\n",
    "    instructions=\"Eres un agente de IA útil que puede ayudar a planificar vacaciones para clientes en destinos aleatorios.\",\n",
    ")\n"
   ]
  },
  {
   "cell_type": "markdown",
   "metadata": {},
   "source": [
    "## Running the Agents \n",
    "\n",
    "Now we can run the Agent by defining the `ChatHistory` and adding the `system_message` to it. We will use the `AGENT_INSTRUCTIONS` that we defined earlier. \n",
    "\n",
    "After these are defined, we create a `user_inputs` that will be what the user is sending to the agent. In this case, we have set this message to `Plan me a sunny vacation`. \n",
    "\n",
    "Feel free to change this message to see how the agent responds differently. "
   ]
  },
  {
   "cell_type": "code",
   "execution_count": 5,
   "metadata": {},
   "outputs": [
    {
     "data": {
      "text/html": [
       "<div style='margin-bottom:10px'><div style='font-weight:bold'>User:</div><div style='margin-left:20px'>Planificame una excursión de un día.</div></div><div style='margin-bottom:20px'><div style='font-weight:bold'>TravelAgent:</div><div style='margin-left:20px; white-space:pre-wrap'>He planificado una emocionante excursión de un día en Ciudad del Cabo, Sudáfrica. Aquí tienes la propuesta:\n",
       "\n",
       "### Excursión de un Día en Ciudad del Cabo\n",
       "\n",
       "**Mañana:**\n",
       "- **Visita a la Montaña de la Mesa**: Comienza tu día con un viaje en teleférico a la cima de esta icónica montaña. Disfruta de impresionantes vistas de la ciudad, el océano y la Península del Cabo. \n",
       "- **Desayuno en el Café de la Montaña**: Después de disfrutar de la vista, disfruta de un desayuno ligero en el café ubicado en la cima.\n",
       "\n",
       "**Mediodía:**\n",
       "- **Visita al Jardín Botánico de Kirstenbosch**: Un hermoso jardín que destaca la flora nativa de Sudáfrica. Pasea entre las plantas y disfruta de un picnic o un almuerzo en el café del jardín.\n",
       "  \n",
       "**Tarde:**\n",
       "- **Tour por Robben Island**: Toma un ferry desde el puerto de Ciudad del Cabo hacia Robben Island, donde Nelson Mandela fue encarcelado. Aprende sobre la historia de Sudáfrica y la lucha por la libertad.\n",
       "\n",
       "**Noche:**\n",
       "- **Cena en el V&A Waterfront**: Regresa a la ciudad y disfruta de una cena en uno de los muchos restaurantes en el V&A Waterfront, conocido por su vibrante vida nocturna y ambiente acogedor.\n",
       "\n",
       "### Recomendaciones Adicionales\n",
       "- Asegúrate de llevar protector solar, una botella de agua y una cámara para capturar los recuerdos.\n",
       "- Verifica los horarios de las atracciones y reserva con antelación si es necesario, especialmente para el ferry a Robben Island.\n",
       "\n",
       "¡Espero que disfrutes de tu excursión en Ciudad del Cabo!</div></div><hr>"
      ],
      "text/plain": [
       "<IPython.core.display.HTML object>"
      ]
     },
     "metadata": {},
     "output_type": "display_data"
    },
    {
     "data": {
      "text/html": [
       "<div style='margin-bottom:10px'><div style='font-weight:bold'>User:</div><div style='margin-left:20px'>No me gusta ese destino. Planifícame otras vacaciones.</div></div><div style='margin-bottom:20px'><div style='font-weight:bold'>TravelAgent:</div><div style='margin-left:20px; white-space:pre-wrap'>He encontrado un nuevo destino para tus vacaciones: ¡París, Francia! Aquí tienes una propuesta para unas vacaciones memorables en la Ciudad de la Luz.\n",
       "\n",
       "### Itinerario de Vacaciones en París\n",
       "\n",
       "**Día 1: Llegada a París**\n",
       "- **Llegada y Check-in**: Instálate en tu hotel o alojamiento.\n",
       "- **Paseo por Montmartre**: Explora este encantador barrio, visita la Basílica del Sagrado Corazón y disfruta de las vistas panorámicas de la ciudad.\n",
       "\n",
       "**Día 2: Cultura y Historia**\n",
       "- **Visita al Museo del Louvre**: Admira obras maestras como la Mona Lisa y la Venus de Milo. Compra las entradas con anticipación para evitar largas filas.\n",
       "- **Almuerzo en una Boulangerie**: Prueba un delicioso croissant o baguette en una panadería local.\n",
       "- **Paseo por el Jardín de las Tullerías**: Relájate en este hermoso jardín, perfecto para tomar fotos y disfrutar del ambiente parisino.\n",
       "\n",
       "**Día 3: Iconos de París**\n",
       "- **Tour por la Torre Eiffel**: Sube a la Torre Eiffel para disfrutar de vistas impresionantes. Reserva tus entradas con antelación.\n",
       "- **Crucero por el Río Sena**: Por la tarde, toma un crucero por el Sena para ver algunos de los monumentos más emblemáticos de París desde el agua.\n",
       "- **Cena en un restaurante tradicional**: Disfruta de la auténtica cocina francesa en uno de los muchos bistrós de París.\n",
       "\n",
       "**Día 4: Día Libre**\n",
       "- **Explora el Barrio Latino**: Pasea por las pintorescas calles, visita la Catedral de Notre-Dame y disfruta de un café en una terraza.\n",
       "- **Visita al Museo de Orsay**: Si tienes tiempo, no te pierdas este museo lleno de arte impresionista.\n",
       "- **Compras en las Galerías Lafayette**: Termina el día explorar las tiendas y boutiques de esta famosa tienda por departamentos.\n",
       "\n",
       "**Consejos Prácticos:**\n",
       "- Adquiere un Pase de Transporte para moverte fácilmente por la ciudad.\n",
       "- Considera aprender algunas frases en francés para enriquecer tu experiencia.\n",
       "- Reserva con antelación para restaurantes populares y atracciones.\n",
       "\n",
       "¡Espero que te entusiasme esta propuesta para tus vacaciones en París! Si deseas más información o realizar ajustes, no dudes en decírmelo.</div></div><hr>"
      ],
      "text/plain": [
       "<IPython.core.display.HTML object>"
      ]
     },
     "metadata": {},
     "output_type": "display_data"
    }
   ],
   "source": [
    "user_inputs = [\n",
    "    \"Planificame una excursión de un día.\",\n",
    "    \"No me gusta ese destino. Planifícame otras vacaciones.\",\n",
    "]\n",
    "\n",
    "async def main():\n",
    "    thread: ChatHistoryAgentThread | None = None\n",
    "\n",
    "    for user_input in user_inputs:\n",
    "        html_output = (\n",
    "            f\"<div style='margin-bottom:10px'>\"\n",
    "            f\"<div style='font-weight:bold'>User:</div>\"\n",
    "            f\"<div style='margin-left:20px'>{user_input}</div></div>\"\n",
    "        )\n",
    "\n",
    "        agent_name = None\n",
    "        full_response: list[str] = []\n",
    "        function_calls: list[str] = []\n",
    "\n",
    "        # Buffer to reconstruct streaming function call\n",
    "        current_function_name = None\n",
    "        argument_buffer = \"\"\n",
    "\n",
    "        async for response in agent.invoke_stream(\n",
    "            messages=user_input,\n",
    "            thread=thread,\n",
    "        ):\n",
    "            thread = response.thread\n",
    "            agent_name = response.name\n",
    "            content_items = list(response.items)\n",
    "\n",
    "            for item in content_items:\n",
    "                if isinstance(item, FunctionCallContent):\n",
    "                    if item.function_name:\n",
    "                        current_function_name = item.function_name\n",
    "\n",
    "                    # Accumulate arguments (streamed in chunks)\n",
    "                    if isinstance(item.arguments, str):\n",
    "                        argument_buffer += item.arguments\n",
    "                elif isinstance(item, FunctionResultContent):\n",
    "                    # Finalize any pending function call before showing result\n",
    "                    if current_function_name:\n",
    "                        formatted_args = argument_buffer.strip()\n",
    "                        try:\n",
    "                            parsed_args = json.loads(formatted_args)\n",
    "                            formatted_args = json.dumps(parsed_args)\n",
    "                        except Exception:\n",
    "                            pass  # leave as raw string\n",
    "\n",
    "                        function_calls.append(f\"Calling function: {current_function_name}({formatted_args})\")\n",
    "                        current_function_name = None\n",
    "                        argument_buffer = \"\"\n",
    "\n",
    "                    function_calls.append(f\"\\nFunction Result:\\n\\n{item.result}\")\n",
    "                elif isinstance(item, StreamingTextContent) and item.text:\n",
    "                    full_response.append(item.text)\n",
    "\n",
    "        if function_calls:\n",
    "            html_output += (\n",
    "                \"<div style='margin-bottom:10px'>\"\n",
    "                \"<details>\"\n",
    "                \"<summary style='cursor:pointer; font-weight:bold; color:#0066cc;'>Function Calls (click to expand)</summary>\"\n",
    "                \"<div style='margin:10px; padding:10px; background-color:#f8f8f8; \"\n",
    "                \"border:1px solid #ddd; border-radius:4px; white-space:pre-wrap; font-size:14px; color:#333;'>\"\n",
    "                f\"{chr(10).join(function_calls)}\"\n",
    "                \"</div></details></div>\"\n",
    "            )\n",
    "\n",
    "        html_output += (\n",
    "            \"<div style='margin-bottom:20px'>\"\n",
    "            f\"<div style='font-weight:bold'>{agent_name or 'Assistant'}:</div>\"\n",
    "            f\"<div style='margin-left:20px; white-space:pre-wrap'>{''.join(full_response)}</div></div><hr>\"\n",
    "        )\n",
    "\n",
    "        display(HTML(html_output))\n",
    "\n",
    "await main()"
   ]
  }
 ],
 "metadata": {
  "kernelspec": {
   "display_name": ".venv",
   "language": "python",
   "name": "python3"
  },
  "language_info": {
   "codemirror_mode": {
    "name": "ipython",
    "version": 3
   },
   "file_extension": ".py",
   "mimetype": "text/x-python",
   "name": "python",
   "nbconvert_exporter": "python",
   "pygments_lexer": "ipython3",
   "version": "3.12.10"
  }
 },
 "nbformat": 4,
 "nbformat_minor": 2
}
