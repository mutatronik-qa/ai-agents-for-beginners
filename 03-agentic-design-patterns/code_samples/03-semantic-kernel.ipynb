{
 "cells": [
  {
   "cell_type": "markdown",
   "metadata": {},
   "source": [
    "# Semantic Kernel \n",
    "En este ejemplo de código, utilizará el marco de inteligencia artificial  [Semantic Kernel](https://aka.ms/ai-agents-beginners/semantic-kernel) para crear un agente básico.\n",
    "\n",
    "El objetivo de este ejemplo es mostrarle los pasos que usaremos más adelante en los ejemplos de código adicionales al implementar los diferentes patrones de agencia."
   ]
  },
  {
   "cell_type": "markdown",
   "metadata": {},
   "source": [
    "## Importar los paquetes de Python necesarios"
   ]
  },
  {
   "cell_type": "code",
   "execution_count": 2,
   "metadata": {},
   "outputs": [],
   "source": [
    "import json\n",
    "import os\n",
    "\n",
    "from typing import Annotated\n",
    "\n",
    "from dotenv import load_dotenv\n",
    "\n",
    "from IPython.display import display, HTML\n",
    "\n",
    "from openai import AsyncOpenAI\n",
    "\n",
    "from semantic_kernel.agents import ChatCompletionAgent, ChatHistoryAgentThread\n",
    "from semantic_kernel.connectors.ai.open_ai import OpenAIChatCompletion\n",
    "from semantic_kernel.contents import FunctionCallContent, FunctionResultContent, StreamingTextContent\n",
    "from semantic_kernel.functions import kernel_function"
   ]
  },
  {
   "cell_type": "markdown",
   "metadata": {},
   "source": [
    "## Creando el cliente\n",
    "\n",
    "En este ejemplo lo utilizaremo [GitHub Models](https://aka.ms/ai-agents-beginners/github-models) para acceder al LLM.\n",
    "\n",
    "El `ai_model_id` se define como `gpt-4o-mini`. Intenta cambiar el modelo a otro disponible en la tienda de modelos de GitHub para ver los diferentes resultados.\n",
    "\n",
    "Para usar el SDK de inferencia de Azure, que se usa para la URL base de los modelos de GitHub, usaremos el conector OpenAIChatCompletion dentro del kernel semántico. También existen otros [available connectors](https://learn.microsoft.com/semantic-kernel/concepts/ai-services/chat-completion) utilizar el núcleo semántico para otros proveedores de modelos."
   ]
  },
  {
   "cell_type": "code",
   "execution_count": 3,
   "metadata": {},
   "outputs": [],
   "source": [
    "import random   \n",
    "\n",
    "# Define a sample plugin for the sample\n",
    "\n",
    "class DestinationsPlugin:\n",
    "    \"\"\"Una lista de destinos aleatorios para unas vacaciones.\"\"\"\n",
    "\n",
    "    def __init__(self):\n",
    "        # List of vacation destinations\n",
    "        self.destinations = [\n",
    "            \"Barcelona, Spain\",\n",
    "            \"Paris, France\",\n",
    "            \"Berlin, Germany\",\n",
    "            \"Tokyo, Japan\",\n",
    "            \"Sydney, Australia\",\n",
    "            \"New York, USA\",\n",
    "            \"Cairo, Egypt\",\n",
    "            \"Cape Town, South Africa\",\n",
    "            \"Rio de Janeiro, Brazil\",\n",
    "            \"Bali, Indonesia\"\n",
    "        ]\n",
    "        # Track last destination to avoid repeats\n",
    "        self.last_destination = None\n",
    "\n",
    "    @kernel_function(description=\"Proporciona un destino de vacaciones aleatorio.\")\n",
    "    def get_random_destination(self) -> Annotated[str, \"Devuelve un destino de vacaciones aleatorio.\"]:\n",
    "        # Get available destinations (excluding last one if possible)\n",
    "        available_destinations = self.destinations.copy()\n",
    "        if self.last_destination and len(available_destinations) > 1:\n",
    "            available_destinations.remove(self.last_destination)\n",
    "\n",
    "        # Select a random destination\n",
    "        destination = random.choice(available_destinations)\n",
    "\n",
    "        # Update the last destination\n",
    "        self.last_destination = destination\n",
    "\n",
    "        return destination"
   ]
  },
  {
   "cell_type": "code",
   "execution_count": 4,
   "metadata": {},
   "outputs": [],
   "source": [
    "load_dotenv()\n",
    "client = AsyncOpenAI(\n",
    "    api_key=os.environ.get(\"GITHUB_TOKEN\"), \n",
    "    base_url=\"https://models.inference.ai.azure.com/\",\n",
    ")\n",
    "\n",
    "# Crear un servicio de IA que será utilizado por el `ChatCompletionAgent`\n",
    "chat_completion_service = OpenAIChatCompletion(\n",
    "    ai_model_id=\"gpt-4o-mini\",\n",
    "    async_client=client,\n",
    ")"
   ]
  },
  {
   "cell_type": "markdown",
   "metadata": {},
   "source": [
    "## Creación del agente\n",
    "\n",
    "A continuación, creamos el agente llamado `TravelAgent`.\n",
    "\n",
    "Para este ejemplo, usamos instrucciones muy sencillas. Puedes modificarlas para ver cómo responde el agente de forma diferente."
   ]
  },
  {
   "cell_type": "code",
   "execution_count": 5,
   "metadata": {},
   "outputs": [],
   "source": [
    "AGENT_INSTRUCTIONS = \"\"\"Eres un agente de IA útil que puede ayudar a planificar las vacaciones de los clientes.\n",
    "\n",
    "Importante: Cuando los usuarios especifiquen un destino, planifique siempre para esa ubicación. Sugiera destinos aleatorios solo si el usuario no ha especificado ninguna preferencia.\n",
    "\n",
    "Al iniciar la conversación, preséntate con este mensaje:\n",
    "\"¡Hola! Soy tu asistente de agente de viajes. Puedo ayudarte a planificar tus vacaciones y sugerirte destinos interesantes. Puedes preguntarme lo siguiente:\n",
    "1. Planificar una excursión de un día a un lugar específico.\n",
    "2. Sugerir un destino de vacaciones al azar.\n",
    "3. Buscar destinos con características específicas (playas, montañas, sitios históricos, etc.).\n",
    "4. Planificar un viaje alternativo si no te convence mi primera sugerencia.\n",
    "\n",
    "¿Qué tipo de viaje te gustaría que te ayudara a planificar hoy?\n",
    "\n",
    "Prioriza siempre las preferencias de los usuarios. Si mencionan un destino específico como \"Bali\" o \"París\", centra tu planificación en ese lugar en lugar de sugerir alternativas.\"\"\"\n",
    "\n",
    "agent = ChatCompletionAgent(\n",
    "    service=chat_completion_service, \n",
    "    plugins=[DestinationsPlugin()],\n",
    "    name=\"TravelAgent\",\n",
    "    instructions=AGENT_INSTRUCTIONS,\n",
    ")"
   ]
  },
  {
   "cell_type": "markdown",
   "metadata": {},
   "source": [
    "## Ejecutando los agentes\n",
    "\n",
    "Ahora podemos ejecutar el Agente definiendo el `ChatHistory` y añadiéndole `system_message`. Usaremos las `AGENT_INSTRUCTIONS` que definimos anteriormente.\n",
    "\n",
    "Una vez definidos, creamos un `user_inputs` que será lo que el usuario envíe al agente. En este caso, hemos configurado este mensaje como `Planifícame unas vacaciones soleadas`.\n",
    "\n",
    "Siéntete libre de cambiar este mensaje para ver cómo el agente responde de manera diferente."
   ]
  },
  {
   "cell_type": "code",
   "execution_count": 6,
   "metadata": {},
   "outputs": [
    {
     "data": {
      "text/html": [
       "<div style='margin-bottom:10px'><div style='font-weight:bold'>User:</div><div style='margin-left:20px'>Planifícame una excursión de un día..</div></div><div style='margin-bottom:20px'><div style='font-weight:bold'>TravelAgent:</div><div style='margin-left:20px; white-space:pre-wrap'>¡Claro! Para poder ayudarte de la mejor manera, ¿qué destino específico tienes en mente para la excursión de un día?</div></div><hr>"
      ],
      "text/plain": [
       "<IPython.core.display.HTML object>"
      ]
     },
     "metadata": {},
     "output_type": "display_data"
    },
    {
     "data": {
      "text/html": [
       "<div style='margin-bottom:10px'><div style='font-weight:bold'>User:</div><div style='margin-left:20px'>No me gusta ese destino. Planifícame otras vacaciones.</div></div><div style='margin-bottom:20px'><div style='font-weight:bold'>TravelAgent:</div><div style='margin-left:20px; white-space:pre-wrap'>He encontrado un destino interesante para tus vacaciones: ¡Nueva York, EE. UU.! \n",
       "\n",
       "Aquí tienes una propuesta para un viaje de varios días:\n",
       "\n",
       "### Itinerario Sugerido para Nueva York:\n",
       "\n",
       "**Día 1: Explorando Manhattan**\n",
       "- **Mañana**: Visita a Times Square y el edificio Empire State. \n",
       "- **Tarde**: Paseo por Central Park, quizás un picnic o visitar el Central Park Zoo.\n",
       "- **Noche**: Cena en un restaurante en Hell's Kitchen y un espectáculo en Broadway.\n",
       "\n",
       "**Día 2: Cultura y Historia**\n",
       "- **Mañana**: Tour por el Museo Metropolitano de Arte (MET).\n",
       "- **Tarde**: Visita a la Catedral de San Patricio y paseo por la Quinta Avenida.\n",
       "- **Noche**: Cena en uno de los rooftops con vista a la ciudad.\n",
       "\n",
       "**Día 3: Iconos de Nueva York**\n",
       "- **Mañana**: Ferry a la Estatua de la Libertad y visita a Ellis Island.\n",
       "- **Tarde**: Exploración del barrio financiero: Wall Street, el 9/11 Memorial y el One World Observatory.\n",
       "- **Noche**: Cena en Little Italy o Chinatown.\n",
       "\n",
       "**Día 4: Más allá de Manhattan**\n",
       "- **Mañana**: Visita a Brooklyn: el Puente de Brooklyn y DUMBO.\n",
       "- **Tarde**: Explora el barrio de Williamsburg o Prospect Park.\n",
       "- **Noche**: Cena en un restaurante local y retorno a Manhattan.\n",
       "\n",
       "### Consejos Adicionales:\n",
       "- Adquiere una MetroCard para moverte fácilmente por la ciudad.\n",
       "- Considera comprar entradas anticipadas para atracciones populares.\n",
       "\n",
       "Si te gusta este itinerario, o si quieres hacer ajustes o planeas otra actividad específica, ¡dímelo!</div></div><hr>"
      ],
      "text/plain": [
       "<IPython.core.display.HTML object>"
      ]
     },
     "metadata": {},
     "output_type": "display_data"
    }
   ],
   "source": [
    "user_inputs = [\n",
    "    \"Planifícame una excursión de un día..\",\n",
    "    \"No me gusta ese destino. Planifícame otras vacaciones.\",\n",
    "]\n",
    "\n",
    "async def main():\n",
    "    thread: ChatHistoryAgentThread | None = None\n",
    "\n",
    "    for user_input in user_inputs:\n",
    "        html_output = (\n",
    "            f\"<div style='margin-bottom:10px'>\"\n",
    "            f\"<div style='font-weight:bold'>User:</div>\"\n",
    "            f\"<div style='margin-left:20px'>{user_input}</div></div>\"\n",
    "        )\n",
    "\n",
    "        agent_name = None\n",
    "        full_response: list[str] = []\n",
    "        function_calls: list[str] = []\n",
    "\n",
    "        # Buffer to reconstruct streaming function call\n",
    "        current_function_name = None\n",
    "        argument_buffer = \"\"\n",
    "\n",
    "        async for response in agent.invoke_stream(\n",
    "            messages=user_input,\n",
    "            thread=thread,\n",
    "        ):\n",
    "            thread = response.thread\n",
    "            agent_name = response.name\n",
    "            content_items = list(response.items)\n",
    "\n",
    "            for item in content_items:\n",
    "                if isinstance(item, FunctionCallContent):\n",
    "                    if item.function_name:\n",
    "                        current_function_name = item.function_name\n",
    "\n",
    "                    # Accumulate arguments (streamed in chunks)\n",
    "                    if isinstance(item.arguments, str):\n",
    "                        argument_buffer += item.arguments\n",
    "                elif isinstance(item, FunctionResultContent):\n",
    "                    # Finalize any pending function call before showing result\n",
    "                    if current_function_name:\n",
    "                        formatted_args = argument_buffer.strip()\n",
    "                        try:\n",
    "                            parsed_args = json.loads(formatted_args)\n",
    "                            formatted_args = json.dumps(parsed_args)\n",
    "                        except Exception:\n",
    "                            pass  # leave as raw string\n",
    "\n",
    "                        function_calls.append(f\"Calling function: {current_function_name}({formatted_args})\")\n",
    "                        current_function_name = None\n",
    "                        argument_buffer = \"\"\n",
    "\n",
    "                    function_calls.append(f\"\\nFunction Result:\\n\\n{item.result}\")\n",
    "                elif isinstance(item, StreamingTextContent) and item.text:\n",
    "                    full_response.append(item.text)\n",
    "\n",
    "        if function_calls:\n",
    "            html_output += (\n",
    "                \"<div style='margin-bottom:10px'>\"\n",
    "                \"<details>\"\n",
    "                \"<summary style='cursor:pointer; font-weight:bold; color:#0066cc;'>Function Calls (click to expand)</summary>\"\n",
    "                \"<div style='margin:10px; padding:10px; background-color:#f8f8f8; \"\n",
    "                \"border:1px solid #ddd; border-radius:4px; white-space:pre-wrap; font-size:14px; color:#333;'>\"\n",
    "                f\"{chr(10).join(function_calls)}\"\n",
    "                \"</div></details></div>\"\n",
    "            )\n",
    "\n",
    "        html_output += (\n",
    "            \"<div style='margin-bottom:20px'>\"\n",
    "            f\"<div style='font-weight:bold'>{agent_name or 'Assistant'}:</div>\"\n",
    "            f\"<div style='margin-left:20px; white-space:pre-wrap'>{''.join(full_response)}</div></div><hr>\"\n",
    "        )\n",
    "\n",
    "        display(HTML(html_output))\n",
    "\n",
    "await main()"
   ]
  }
 ],
 "metadata": {
  "kernelspec": {
   "display_name": ".venv",
   "language": "python",
   "name": "python3"
  },
  "language_info": {
   "codemirror_mode": {
    "name": "ipython",
    "version": 3
   },
   "file_extension": ".py",
   "mimetype": "text/x-python",
   "name": "python",
   "nbconvert_exporter": "python",
   "pygments_lexer": "ipython3",
   "version": "3.12.10"
  }
 },
 "nbformat": 4,
 "nbformat_minor": 2
}
