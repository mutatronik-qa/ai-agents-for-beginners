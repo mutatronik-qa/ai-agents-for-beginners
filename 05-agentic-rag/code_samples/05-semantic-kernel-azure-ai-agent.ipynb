{
 "cells": [
  {
   "cell_type": "markdown",
   "metadata": {},
   "source": [
    "# RAG Using Azure AI Agent Service & Semantic Kernel\n",
    "\n",
    "This code snippet demonstrates how to create and manage an Azure AI agent for retrieval-augmented generation (RAG) using the `Azure AI Agent Service` and `Semantic Kernel`. The agent processes user queries based on the retrieved context and provides accurate responses accordingly."
   ]
  },
  {
   "cell_type": "markdown",
   "metadata": {},
   "source": [
    "## Initializing the Environment"
   ]
  },
  {
   "cell_type": "markdown",
   "metadata": {},
   "source": [
    "SQLite Version Fix\n",
    "If you encounter the error:\n",
    "```\n",
    "RuntimeError: Your system has an unsupported version of sqlite3. Chroma requires sqlite3 >= 3.35.0\n",
    "```\n",
    "\n",
    "Uncomment this code block at the start of your notebook:"
   ]
  },
  {
   "cell_type": "code",
   "execution_count": null,
   "metadata": {},
   "outputs": [],
   "source": [
    "# %pip install pysqlite3-binary\n",
    "# __import__('pysqlite3')\n",
    "# import sys\n",
    "# sys.modules['sqlite3'] = sys.modules.pop('pysqlite3')"
   ]
  },
  {
   "cell_type": "markdown",
   "metadata": {},
   "source": [
    "### Importing Packages\n",
    "The following code imports the necessary packages:"
   ]
  },
  {
   "cell_type": "code",
   "execution_count": 1,
   "metadata": {},
   "outputs": [],
   "source": [
    "# Azure imports for project client and credentials\n",
    "from azure.ai.projects.models import FileSearchTool, OpenAIFile, VectorStore\n",
    "from azure.identity.aio import DefaultAzureCredential\n",
    "\n",
    "# Semantic Kernel imports\n",
    "from semantic_kernel.agents import AzureAIAgent, AzureAIAgentThread"
   ]
  },
  {
   "cell_type": "markdown",
   "metadata": {},
   "source": [
    "# Retrieval-Augmented Generation with Semantic Kernel & Azure AI Agent Service\n",
    "\n",
    "This sample demonstrates how to use the **Azure AI Agent Service** to perform **Retrieval-Augmented Generation (RAG)** by combining a language model with domain-specific context from an uploaded document.\n",
    "\n",
    "### How It Works\n",
    "\n",
    "1. **Document Upload**: A markdown file (document.md) containing information (Contoso's travel insurance policy) is uploaded to the agent service.\n",
    "\n",
    "2. **Vector Store Creation**: The document is indexed into a vector store to enable semantic search over its contents.\n",
    "\n",
    "3. **Agent Configuration**: An agent is instantiated using the `gpt-4o` model with the following strict instructions:\n",
    "   - Only answer questions based on retrieved content from the document.\n",
    "   - Decline to answer if the question is out of scope.\n",
    "\n",
    "4. **File Search Tool Integration**: The `FileSearchTool` is registered with the agent, enabling the model to search and retrieve relevant snippets from the indexed document during inference.\n",
    "\n",
    "5. **User Interaction**: Users can ask questions. If relevant information is found in the document, the agent generates a grounded answer.  \n",
    "   If not, the agent explicitly responds that the document does not contain sufficient information.\n"
   ]
  },
  {
   "cell_type": "markdown",
   "metadata": {},
   "source": [
    "### Main Function\n"
   ]
  },
  {
   "cell_type": "markdown",
   "metadata": {},
   "source": [
    "Make sure to first run `az login` using the Azure CLI so that the proper authentication context is provided while using the `DefaultAzureCredential`. The Azure AI Agent Service does not use API keys."
   ]
  },
  {
   "cell_type": "code",
   "execution_count": 2,
   "metadata": {},
   "outputs": [
    {
     "ename": "ValidationError",
     "evalue": "1 validation error for AzureAIAgentSettings\nmodel_deployment_name\n  Field required [type=missing, input_value={}, input_type=dict]\n    For further information visit https://errors.pydantic.dev/2.11/v/missing",
     "output_type": "error",
     "traceback": [
      "\u001b[31m---------------------------------------------------------------------------\u001b[39m",
      "\u001b[31mValidationError\u001b[39m                           Traceback (most recent call last)",
      "\u001b[36mCell\u001b[39m\u001b[36m \u001b[39m\u001b[32mIn[2]\u001b[39m\u001b[32m, line 71\u001b[39m\n\u001b[32m     68\u001b[39m             \u001b[38;5;28;01mawait\u001b[39;00m client.agents.delete_agent(agent.id)\n\u001b[32m     69\u001b[39m             \u001b[38;5;28mprint\u001b[39m(\u001b[33m\"\u001b[39m\u001b[38;5;130;01m\\n\u001b[39;00m\u001b[33mCleaned up agent, thread, file, and vector store.\u001b[39m\u001b[33m\"\u001b[39m)\n\u001b[32m---> \u001b[39m\u001b[32m71\u001b[39m \u001b[38;5;28;01mawait\u001b[39;00m main()\n",
      "\u001b[36mCell\u001b[39m\u001b[36m \u001b[39m\u001b[32mIn[2]\u001b[39m\u001b[32m, line 4\u001b[39m, in \u001b[36mmain\u001b[39m\u001b[34m()\u001b[39m\n\u001b[32m      1\u001b[39m \u001b[38;5;28;01masync\u001b[39;00m \u001b[38;5;28;01mdef\u001b[39;00m\u001b[38;5;250m \u001b[39m\u001b[34mmain\u001b[39m():\n\u001b[32m      2\u001b[39m     \u001b[38;5;28;01masync\u001b[39;00m \u001b[38;5;28;01mwith\u001b[39;00m (\n\u001b[32m      3\u001b[39m         DefaultAzureCredential() \u001b[38;5;28;01mas\u001b[39;00m creds,\n\u001b[32m----> \u001b[39m\u001b[32m4\u001b[39m         \u001b[43mAzureAIAgent\u001b[49m\u001b[43m.\u001b[49m\u001b[43mcreate_client\u001b[49m\u001b[43m(\u001b[49m\u001b[43mcredential\u001b[49m\u001b[43m=\u001b[49m\u001b[43mcreds\u001b[49m\u001b[43m)\u001b[49m \u001b[38;5;28;01mas\u001b[39;00m client,\n\u001b[32m      5\u001b[39m     ):\n\u001b[32m      6\u001b[39m         file: OpenAIFile = \u001b[38;5;28;01mawait\u001b[39;00m client.agents.upload_file_and_poll(file_path=\u001b[33m\"\u001b[39m\u001b[33mdocument.md\u001b[39m\u001b[33m\"\u001b[39m, purpose=\u001b[33m\"\u001b[39m\u001b[33massistants\u001b[39m\u001b[33m\"\u001b[39m)\n\u001b[32m      7\u001b[39m         vector_store: VectorStore = \u001b[38;5;28;01mawait\u001b[39;00m client.agents.create_vector_store_and_poll(\n\u001b[32m      8\u001b[39m             file_ids=[file.id], name=\u001b[33m\"\u001b[39m\u001b[33mmy_vectorstore\u001b[39m\u001b[33m\"\u001b[39m\n\u001b[32m      9\u001b[39m         )\n",
      "\u001b[36mFile \u001b[39m\u001b[32me:\\GIT\\ai-agents-for-beginners\\.venv\\Lib\\site-packages\\semantic_kernel\\agents\\azure_ai\\azure_ai_agent.py:258\u001b[39m, in \u001b[36mAzureAIAgent.create_client\u001b[39m\u001b[34m(credential, conn_str, **kwargs)\u001b[39m\n\u001b[32m    247\u001b[39m \u001b[38;5;250m\u001b[39m\u001b[33;03m\"\"\"Create the Azure AI Project client using the connection string.\u001b[39;00m\n\u001b[32m    248\u001b[39m \n\u001b[32m    249\u001b[39m \u001b[33;03mArgs:\u001b[39;00m\n\u001b[32m   (...)\u001b[39m\u001b[32m    255\u001b[39m \u001b[33;03m    AIProjectClient: The Azure AI Project client\u001b[39;00m\n\u001b[32m    256\u001b[39m \u001b[33;03m\"\"\"\u001b[39;00m\n\u001b[32m    257\u001b[39m \u001b[38;5;28;01mif\u001b[39;00m conn_str \u001b[38;5;129;01mis\u001b[39;00m \u001b[38;5;28;01mNone\u001b[39;00m:\n\u001b[32m--> \u001b[39m\u001b[32m258\u001b[39m     ai_agent_settings = \u001b[43mAzureAIAgentSettings\u001b[49m\u001b[43m(\u001b[49m\u001b[43m)\u001b[49m\n\u001b[32m    259\u001b[39m     \u001b[38;5;28;01mif\u001b[39;00m \u001b[38;5;129;01mnot\u001b[39;00m ai_agent_settings.project_connection_string:\n\u001b[32m    260\u001b[39m         \u001b[38;5;28;01mraise\u001b[39;00m AgentInitializationException(\u001b[33m\"\u001b[39m\u001b[33mPlease provide a valid Azure AI connection string.\u001b[39m\u001b[33m\"\u001b[39m)\n",
      "\u001b[36mFile \u001b[39m\u001b[32me:\\GIT\\ai-agents-for-beginners\\.venv\\Lib\\site-packages\\semantic_kernel\\kernel_pydantic.py:56\u001b[39m, in \u001b[36mKernelBaseSettings.__init__\u001b[39m\u001b[34m(self, **kwargs)\u001b[39m\n\u001b[32m     54\u001b[39m \u001b[38;5;66;03m# Remove any None values from the kwargs so that defaults are used.\u001b[39;00m\n\u001b[32m     55\u001b[39m kwargs = {k: v \u001b[38;5;28;01mfor\u001b[39;00m k, v \u001b[38;5;129;01min\u001b[39;00m kwargs.items() \u001b[38;5;28;01mif\u001b[39;00m v \u001b[38;5;129;01mis\u001b[39;00m \u001b[38;5;129;01mnot\u001b[39;00m \u001b[38;5;28;01mNone\u001b[39;00m}\n\u001b[32m---> \u001b[39m\u001b[32m56\u001b[39m \u001b[38;5;28;43msuper\u001b[39;49m\u001b[43m(\u001b[49m\u001b[43m)\u001b[49m\u001b[43m.\u001b[49m\u001b[34;43m__init__\u001b[39;49m\u001b[43m(\u001b[49m\u001b[43m*\u001b[49m\u001b[43m*\u001b[49m\u001b[43mkwargs\u001b[49m\u001b[43m)\u001b[49m\n",
      "\u001b[36mFile \u001b[39m\u001b[32me:\\GIT\\ai-agents-for-beginners\\.venv\\Lib\\site-packages\\pydantic_settings\\main.py:176\u001b[39m, in \u001b[36mBaseSettings.__init__\u001b[39m\u001b[34m(__pydantic_self__, _case_sensitive, _nested_model_default_partial_update, _env_prefix, _env_file, _env_file_encoding, _env_ignore_empty, _env_nested_delimiter, _env_nested_max_split, _env_parse_none_str, _env_parse_enums, _cli_prog_name, _cli_parse_args, _cli_settings_source, _cli_parse_none_str, _cli_hide_none_type, _cli_avoid_json, _cli_enforce_required, _cli_use_class_docs_for_groups, _cli_exit_on_error, _cli_prefix, _cli_flag_prefix_char, _cli_implicit_flags, _cli_ignore_unknown_args, _cli_kebab_case, _secrets_dir, **values)\u001b[39m\n\u001b[32m    147\u001b[39m \u001b[38;5;28;01mdef\u001b[39;00m\u001b[38;5;250m \u001b[39m\u001b[34m__init__\u001b[39m(\n\u001b[32m    148\u001b[39m     __pydantic_self__,\n\u001b[32m    149\u001b[39m     _case_sensitive: \u001b[38;5;28mbool\u001b[39m | \u001b[38;5;28;01mNone\u001b[39;00m = \u001b[38;5;28;01mNone\u001b[39;00m,\n\u001b[32m   (...)\u001b[39m\u001b[32m    174\u001b[39m     **values: Any,\n\u001b[32m    175\u001b[39m ) -> \u001b[38;5;28;01mNone\u001b[39;00m:\n\u001b[32m--> \u001b[39m\u001b[32m176\u001b[39m     \u001b[38;5;28;43msuper\u001b[39;49m\u001b[43m(\u001b[49m\u001b[43m)\u001b[49m\u001b[43m.\u001b[49m\u001b[34;43m__init__\u001b[39;49m\u001b[43m(\u001b[49m\n\u001b[32m    177\u001b[39m \u001b[43m        \u001b[49m\u001b[43m*\u001b[49m\u001b[43m*\u001b[49m\u001b[43m__pydantic_self__\u001b[49m\u001b[43m.\u001b[49m\u001b[43m_settings_build_values\u001b[49m\u001b[43m(\u001b[49m\n\u001b[32m    178\u001b[39m \u001b[43m            \u001b[49m\u001b[43mvalues\u001b[49m\u001b[43m,\u001b[49m\n\u001b[32m    179\u001b[39m \u001b[43m            \u001b[49m\u001b[43m_case_sensitive\u001b[49m\u001b[43m=\u001b[49m\u001b[43m_case_sensitive\u001b[49m\u001b[43m,\u001b[49m\n\u001b[32m    180\u001b[39m \u001b[43m            \u001b[49m\u001b[43m_nested_model_default_partial_update\u001b[49m\u001b[43m=\u001b[49m\u001b[43m_nested_model_default_partial_update\u001b[49m\u001b[43m,\u001b[49m\n\u001b[32m    181\u001b[39m \u001b[43m            \u001b[49m\u001b[43m_env_prefix\u001b[49m\u001b[43m=\u001b[49m\u001b[43m_env_prefix\u001b[49m\u001b[43m,\u001b[49m\n\u001b[32m    182\u001b[39m \u001b[43m            \u001b[49m\u001b[43m_env_file\u001b[49m\u001b[43m=\u001b[49m\u001b[43m_env_file\u001b[49m\u001b[43m,\u001b[49m\n\u001b[32m    183\u001b[39m \u001b[43m            \u001b[49m\u001b[43m_env_file_encoding\u001b[49m\u001b[43m=\u001b[49m\u001b[43m_env_file_encoding\u001b[49m\u001b[43m,\u001b[49m\n\u001b[32m    184\u001b[39m \u001b[43m            \u001b[49m\u001b[43m_env_ignore_empty\u001b[49m\u001b[43m=\u001b[49m\u001b[43m_env_ignore_empty\u001b[49m\u001b[43m,\u001b[49m\n\u001b[32m    185\u001b[39m \u001b[43m            \u001b[49m\u001b[43m_env_nested_delimiter\u001b[49m\u001b[43m=\u001b[49m\u001b[43m_env_nested_delimiter\u001b[49m\u001b[43m,\u001b[49m\n\u001b[32m    186\u001b[39m \u001b[43m            \u001b[49m\u001b[43m_env_nested_max_split\u001b[49m\u001b[43m=\u001b[49m\u001b[43m_env_nested_max_split\u001b[49m\u001b[43m,\u001b[49m\n\u001b[32m    187\u001b[39m \u001b[43m            \u001b[49m\u001b[43m_env_parse_none_str\u001b[49m\u001b[43m=\u001b[49m\u001b[43m_env_parse_none_str\u001b[49m\u001b[43m,\u001b[49m\n\u001b[32m    188\u001b[39m \u001b[43m            \u001b[49m\u001b[43m_env_parse_enums\u001b[49m\u001b[43m=\u001b[49m\u001b[43m_env_parse_enums\u001b[49m\u001b[43m,\u001b[49m\n\u001b[32m    189\u001b[39m \u001b[43m            \u001b[49m\u001b[43m_cli_prog_name\u001b[49m\u001b[43m=\u001b[49m\u001b[43m_cli_prog_name\u001b[49m\u001b[43m,\u001b[49m\n\u001b[32m    190\u001b[39m \u001b[43m            \u001b[49m\u001b[43m_cli_parse_args\u001b[49m\u001b[43m=\u001b[49m\u001b[43m_cli_parse_args\u001b[49m\u001b[43m,\u001b[49m\n\u001b[32m    191\u001b[39m \u001b[43m            \u001b[49m\u001b[43m_cli_settings_source\u001b[49m\u001b[43m=\u001b[49m\u001b[43m_cli_settings_source\u001b[49m\u001b[43m,\u001b[49m\n\u001b[32m    192\u001b[39m \u001b[43m            \u001b[49m\u001b[43m_cli_parse_none_str\u001b[49m\u001b[43m=\u001b[49m\u001b[43m_cli_parse_none_str\u001b[49m\u001b[43m,\u001b[49m\n\u001b[32m    193\u001b[39m \u001b[43m            \u001b[49m\u001b[43m_cli_hide_none_type\u001b[49m\u001b[43m=\u001b[49m\u001b[43m_cli_hide_none_type\u001b[49m\u001b[43m,\u001b[49m\n\u001b[32m    194\u001b[39m \u001b[43m            \u001b[49m\u001b[43m_cli_avoid_json\u001b[49m\u001b[43m=\u001b[49m\u001b[43m_cli_avoid_json\u001b[49m\u001b[43m,\u001b[49m\n\u001b[32m    195\u001b[39m \u001b[43m            \u001b[49m\u001b[43m_cli_enforce_required\u001b[49m\u001b[43m=\u001b[49m\u001b[43m_cli_enforce_required\u001b[49m\u001b[43m,\u001b[49m\n\u001b[32m    196\u001b[39m \u001b[43m            \u001b[49m\u001b[43m_cli_use_class_docs_for_groups\u001b[49m\u001b[43m=\u001b[49m\u001b[43m_cli_use_class_docs_for_groups\u001b[49m\u001b[43m,\u001b[49m\n\u001b[32m    197\u001b[39m \u001b[43m            \u001b[49m\u001b[43m_cli_exit_on_error\u001b[49m\u001b[43m=\u001b[49m\u001b[43m_cli_exit_on_error\u001b[49m\u001b[43m,\u001b[49m\n\u001b[32m    198\u001b[39m \u001b[43m            \u001b[49m\u001b[43m_cli_prefix\u001b[49m\u001b[43m=\u001b[49m\u001b[43m_cli_prefix\u001b[49m\u001b[43m,\u001b[49m\n\u001b[32m    199\u001b[39m \u001b[43m            \u001b[49m\u001b[43m_cli_flag_prefix_char\u001b[49m\u001b[43m=\u001b[49m\u001b[43m_cli_flag_prefix_char\u001b[49m\u001b[43m,\u001b[49m\n\u001b[32m    200\u001b[39m \u001b[43m            \u001b[49m\u001b[43m_cli_implicit_flags\u001b[49m\u001b[43m=\u001b[49m\u001b[43m_cli_implicit_flags\u001b[49m\u001b[43m,\u001b[49m\n\u001b[32m    201\u001b[39m \u001b[43m            \u001b[49m\u001b[43m_cli_ignore_unknown_args\u001b[49m\u001b[43m=\u001b[49m\u001b[43m_cli_ignore_unknown_args\u001b[49m\u001b[43m,\u001b[49m\n\u001b[32m    202\u001b[39m \u001b[43m            \u001b[49m\u001b[43m_cli_kebab_case\u001b[49m\u001b[43m=\u001b[49m\u001b[43m_cli_kebab_case\u001b[49m\u001b[43m,\u001b[49m\n\u001b[32m    203\u001b[39m \u001b[43m            \u001b[49m\u001b[43m_secrets_dir\u001b[49m\u001b[43m=\u001b[49m\u001b[43m_secrets_dir\u001b[49m\u001b[43m,\u001b[49m\n\u001b[32m    204\u001b[39m \u001b[43m        \u001b[49m\u001b[43m)\u001b[49m\n\u001b[32m    205\u001b[39m \u001b[43m    \u001b[49m\u001b[43m)\u001b[49m\n",
      "\u001b[36mFile \u001b[39m\u001b[32me:\\GIT\\ai-agents-for-beginners\\.venv\\Lib\\site-packages\\pydantic\\main.py:253\u001b[39m, in \u001b[36mBaseModel.__init__\u001b[39m\u001b[34m(self, **data)\u001b[39m\n\u001b[32m    251\u001b[39m \u001b[38;5;66;03m# `__tracebackhide__` tells pytest and some other tools to omit this function from tracebacks\u001b[39;00m\n\u001b[32m    252\u001b[39m __tracebackhide__ = \u001b[38;5;28;01mTrue\u001b[39;00m\n\u001b[32m--> \u001b[39m\u001b[32m253\u001b[39m validated_self = \u001b[38;5;28;43mself\u001b[39;49m\u001b[43m.\u001b[49m\u001b[43m__pydantic_validator__\u001b[49m\u001b[43m.\u001b[49m\u001b[43mvalidate_python\u001b[49m\u001b[43m(\u001b[49m\u001b[43mdata\u001b[49m\u001b[43m,\u001b[49m\u001b[43m \u001b[49m\u001b[43mself_instance\u001b[49m\u001b[43m=\u001b[49m\u001b[38;5;28;43mself\u001b[39;49m\u001b[43m)\u001b[49m\n\u001b[32m    254\u001b[39m \u001b[38;5;28;01mif\u001b[39;00m \u001b[38;5;28mself\u001b[39m \u001b[38;5;129;01mis\u001b[39;00m \u001b[38;5;129;01mnot\u001b[39;00m validated_self:\n\u001b[32m    255\u001b[39m     warnings.warn(\n\u001b[32m    256\u001b[39m         \u001b[33m'\u001b[39m\u001b[33mA custom validator is returning a value other than `self`.\u001b[39m\u001b[38;5;130;01m\\n\u001b[39;00m\u001b[33m'\u001b[39m\n\u001b[32m    257\u001b[39m         \u001b[33m\"\u001b[39m\u001b[33mReturning anything other than `self` from a top level model validator isn\u001b[39m\u001b[33m'\u001b[39m\u001b[33mt supported when validating via `__init__`.\u001b[39m\u001b[38;5;130;01m\\n\u001b[39;00m\u001b[33m\"\u001b[39m\n\u001b[32m    258\u001b[39m         \u001b[33m'\u001b[39m\u001b[33mSee the `model_validator` docs (https://docs.pydantic.dev/latest/concepts/validators/#model-validators) for more details.\u001b[39m\u001b[33m'\u001b[39m,\n\u001b[32m    259\u001b[39m         stacklevel=\u001b[32m2\u001b[39m,\n\u001b[32m    260\u001b[39m     )\n",
      "\u001b[31mValidationError\u001b[39m: 1 validation error for AzureAIAgentSettings\nmodel_deployment_name\n  Field required [type=missing, input_value={}, input_type=dict]\n    For further information visit https://errors.pydantic.dev/2.11/v/missing"
     ]
    }
   ],
   "source": [
    "async def main():\n",
    "    async with (\n",
    "        DefaultAzureCredential() as creds,\n",
    "        AzureAIAgent.create_client(credential=creds) as client,\n",
    "    ):\n",
    "        file: OpenAIFile = await client.agents.upload_file_and_poll(file_path=\"document.md\", purpose=\"assistants\")\n",
    "        vector_store: VectorStore = await client.agents.create_vector_store_and_poll(\n",
    "            file_ids=[file.id], name=\"my_vectorstore\"\n",
    "        )\n",
    "\n",
    "        # Define agent name and instructions tailored for RAG.\n",
    "        AGENT_NAME = \"RAGAgent\"\n",
    "        AGENT_INSTRUCTIONS = \"\"\"\n",
    "        You are an AI assistant designed to answer user questions using only the information retrieved from the provided document(s).\n",
    "\n",
    "        - If a user's question cannot be answered using the retrieved context, **you must clearly respond**: \n",
    "        \"I'm sorry, but the uploaded document does not contain the necessary information to answer that question.\"\n",
    "        - Do not answer from general knowledge or reasoning. Do not make assumptions or generate hypothetical explanations.\n",
    "        - Do not provide definitions, tutorials, or commentary that is not explicitly grounded in the content of the uploaded file(s).\n",
    "        - If a user asks a question like \"What is a Neural Network?\", and this is not discussed in the uploaded document, respond as instructed above.\n",
    "        - For questions that do have relevant content in the document (e.g., Contoso's travel insurance coverage), respond accurately, and cite the document explicitly.\n",
    "\n",
    "        You must behave as if you have no external knowledge beyond what is retrieved from the uploaded document.\n",
    "        \"\"\"\n",
    "\n",
    "        \n",
    "        # Create file search tool with uploaded resources\n",
    "        file_search = FileSearchTool(vector_store_ids=[vector_store.id])\n",
    "\n",
    "        # 3. Create an agent on the Azure AI agent service with the file search tool\n",
    "        agent_definition = await client.agents.create_agent(\n",
    "            model=\"gpt-4o\",  # This model should match your Azure OpenAI deployment.\n",
    "            name=AGENT_NAME,\n",
    "            instructions=AGENT_INSTRUCTIONS,\n",
    "            tools=file_search.definitions,\n",
    "            tool_resources=file_search.resources,\n",
    "        )\n",
    "        \n",
    "        # Create the Azure AI Agent using the client and definition.\n",
    "        agent = AzureAIAgent(\n",
    "            client=client,\n",
    "            definition=agent_definition,\n",
    "        )\n",
    "        \n",
    "        # Create a thread to hold the conversation\n",
    "        # If no thread is provided, a new thread will be\n",
    "        # created and returned with the initial response\n",
    "        thread: AzureAIAgentThread | None = None\n",
    "        \n",
    "        # Example user queries.\n",
    "        user_inputs = [\n",
    "            \"Can you explain Contoso's travel insurance coverage?\",  # Relevant context.\n",
    "            \"What is a Neural Network?\"  # No relevant context from the document. Will not contain a source annotation.\n",
    "        ]\n",
    "        \n",
    "        try:\n",
    "            for user_input in user_inputs:\n",
    "                print(f\"# User: '{user_input}'\")\n",
    "                # Invoke the agent for the specified thread for response\n",
    "                async for response in agent.invoke(messages=user_input, thread=thread):\n",
    "                    print(f\"# {response.name}: {response}\")\n",
    "                    thread = response.thread\n",
    "        finally:\n",
    "            # Clean up resources.\n",
    "            await thread.delete() if thread else None\n",
    "            await client.agents.delete_vector_store(vector_store.id)\n",
    "            await client.agents.delete_file(file.id)\n",
    "            await client.agents.delete_agent(agent.id)\n",
    "            print(\"\\nCleaned up agent, thread, file, and vector store.\")\n",
    "\n",
    "await main()"
   ]
  },
  {
   "cell_type": "markdown",
   "metadata": {},
   "source": [
    "You should see output similar to:\n",
    "\n",
    "```\n",
    "# User: 'Can you explain Contoso's travel insurance coverage?'\n",
    "# Agent: Contoso's travel insurance coverage includes protection for medical emergencies, trip cancellations, and lost baggage【4:0†document.md】.\n",
    "# User: 'What is a Neural Network?'\n",
    "# Agent: I'm sorry, but the uploaded document does not contain the necessary information to answer that question.\n",
    "\n",
    "Cleaned up agent, thread, file, and vector store.\n",
    "```"
   ]
  }
 ],
 "metadata": {
  "kernelspec": {
   "display_name": ".venv",
   "language": "python",
   "name": "python3"
  },
  "language_info": {
   "codemirror_mode": {
    "name": "ipython",
    "version": 3
   },
   "file_extension": ".py",
   "mimetype": "text/x-python",
   "name": "python",
   "nbconvert_exporter": "python",
   "pygments_lexer": "ipython3",
   "version": "3.12.10"
  }
 },
 "nbformat": 4,
 "nbformat_minor": 2
}
